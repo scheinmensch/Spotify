{
 "cells": [
  {
   "cell_type": "code",
   "execution_count": 1,
   "id": "9b291216-741e-47fe-98f3-1c5ef1572d57",
   "metadata": {},
   "outputs": [],
   "source": [
    "import pandas as pd\n",
    "import seaborn as sns\n",
    "import matplotlib.pyplot as plt\n",
    "from matplotlib.dates import YearLocator\n",
    "import numpy as np"
   ]
  },
  {
   "cell_type": "code",
   "execution_count": 2,
   "id": "dbe92034-6b01-4a65-9a76-99fa28cc54c9",
   "metadata": {},
   "outputs": [
    {
     "data": {
      "image/png": "[encoded data removed]",
      "text/plain": [
       "<Figure size 500x50 with 1 Axes>"
      ]
     },
     "metadata": {},
     "output_type": "display_data"
    }
   ],
   "source": [
    "sns.set()\n",
    "c_pal = [\"#01161e\",\"#124559\",\"#598392\",\"#aec3b0\",\"#eff6e0\"]\n",
    "fig, ax = plt.subplots(figsize=(5, 0.5))\n",
    "for i, color in enumerate(c_pal):\n",
    "    ax.add_patch(plt.Rectangle((i, 0), 1, 1, color=color))\n",
    "ax.set_xlim(0, len(c_pal))\n",
    "ax.set_ylim(0, 1)\n",
    "ax.set_xticks([])\n",
    "ax.set_yticks([])\n",
    "plt.title('color palette')\n",
    "plt.show();"
   ]
  },
  {
   "cell_type": "code",
   "execution_count": 3,
   "id": "9e125a37-fc90-46d7-85f0-0105ca123ca1",
   "metadata": {},
   "outputs": [],
   "source": [
    "def custom_styling(dataframe):\n",
    "    \"\"\"\n",
    "    Apply custom styling to a DataFrame.\n",
    "    \"\"\"\n",
    "    return (\n",
    "        dataframe.style\n",
    "        .set_table_styles([{'selector': 'th', 'props': [('background-color', '#59839280')]}])\n",
    "        .set_properties(**{'background-color': '#aec3b080', 'color': 'black'}, subset=pd.IndexSlice[:, :])\n",
    "        .set_properties(**{'background-color': '#eff6e080', 'color': 'black'}, subset=pd.IndexSlice[::2, :])\n",
    "    )"
   ]
  },
  {
   "cell_type": "code",
   "execution_count": 4,
   "id": "49a6a93c-689a-4d46-b3e1-9269bc3222c1",
   "metadata": {},
   "outputs": [],
   "source": [
    "atw = pd.read_csv('data/AllThemWitches.csv')"
   ]
  },
  {
   "cell_type": "code",
   "execution_count": 5,
   "id": "53b9bbf3-d05f-49a5-946c-b47df3d4e386",
   "metadata": {},
   "outputs": [],
   "source": [
    "atw = atw[['id', 'name', 'album_name', 'album_release_date', 'duration_ms', 'popularity', 'danceability', 'energy', 'key', 'loudness', 'mode', 'speechiness',\n",
    "       'acousticness', 'instrumentalness', 'liveness', 'tempo', 'time_signature', 'valence', 'explicit']].copy()"
   ]
  },
  {
   "cell_type": "code",
   "execution_count": 6,
   "id": "f85df2b1-2a28-4aec-bb3a-dd9f977e4f3d",
   "metadata": {},
   "outputs": [
    {
     "data": {
      "text/plain": [
       "Index(['id', 'name', 'album_name', 'album_release_date', 'duration_ms',\n",
       "       'popularity', 'danceability', 'energy', 'key', 'loudness', 'mode',\n",
       "       'speechiness', 'acousticness', 'instrumentalness', 'liveness', 'tempo',\n",
       "       'time_signature', 'valence', 'explicit'],\n",
       "      dtype='object')"
      ]
     },
     "execution_count": 6,
     "metadata": {},
     "output_type": "execute_result"
    }
   ],
   "source": [
    "atw.columns"
   ]
  },
  {
   "cell_type": "markdown",
   "id": "13751451-3cd7-4959-b347-6cb677e8660e",
   "metadata": {},
   "source": [
    "### What do all these audio features mean?\n",
    "\n",
    "Let's have a look at the [Spotify Web API documentation](https://developer.spotify.com/documentation/web-api/reference/get-audio-features)\n",
    "\n",
    "**popularity**\n",
    "The popularity of the track. The value will be between 0 and 100, with 100 being the most popular.\n",
    "The popularity of a track is a value between 0 and 100, with 100 being the most popular. The popularity is calculated by algorithm and is based, in the most part, on the total number of plays the track has had and how recent those plays are.\n",
    "Generally speaking, songs that are being played a lot now will have a higher popularity than songs that were played a lot in the past.\n",
    "\n",
    "**duration_ms**\n",
    "The duration of the track in milliseconds.\n",
    "\n",
    "**acousticness**\n",
    "A confidence measure from 0.0 to 1.0 of whether the track is acoustic. 1.0 represents high confidence the track is acoustic.\n",
    "\n",
    "**danceability**\n",
    "Danceability describes how suitable a track is for dancing based on a combination of musical elements including tempo, rhythm stability, beat strength, and overall regularity. A value of 0.0 is least danceable and 1.0 is most danceable.\n",
    "\n",
    "**energy**\n",
    "Energy is a measure from 0.0 to 1.0 and represents a perceptual measure of intensity and activity. Typically, energetic tracks feel fast, loud, and noisy. For example, death metal has high energy, while a Bach prelude scores low on the scale. Perceptual features contributing to this attribute include dynamic range, perceived loudness, timbre, onset rate, and general entropy.\n",
    "\n",
    "**instrumentalness**\n",
    "Predicts whether a track contains no vocals. \"Ooh\" and \"aah\" sounds are treated as instrumental in this context. Rap or spoken word tracks are clearly \"vocal\". The closer the instrumentalness value is to 1.0, the greater likelihood the track contains no vocal content. Values above 0.5 are intended to represent instrumental tracks, but confidence is higher as the value approaches 1.0.\n",
    "\n",
    "**key**\n",
    "The key the track is in. Integers map to pitches using standard Pitch Class notation. E.g. 0 = C, 1 = C♯/D♭, 2 = D, and so on. If no key was detected, the value is -1.\n",
    "\n",
    "**liveness**\n",
    "Detects the presence of an audience in the recording. Higher liveness values represent an increased probability that the track was performed live. A value above 0.8 provides strong likelihood that the track is live.\n",
    "\n",
    "**loudness**\n",
    "The overall loudness of a track in decibels (dB). Loudness values are averaged across the entire track and are useful for comparing relative loudness of tracks. Loudness is the quality of a sound that is the primary psychological correlate of physical strength (amplitude). Values typically range between -60 and 0 db.\n",
    "\n",
    "**mode**\n",
    "Mode indicates the modality (major or minor) of a track, the type of scale from which its melodic content is derived. Major is represented by 1 and minor is 0.\n",
    "\n",
    "**speechiness**\n",
    "Speechiness detects the presence of spoken words in a track. The more exclusively speech-like the recording (e.g. talk show, audio book, poetry), the closer to 1.0 the attribute value. Values above 0.66 describe tracks that are probably made entirely of spoken words. Values between 0.33 and 0.66 describe tracks that may contain both music and speech, either in sections or layered, including such cases as rap music. Values below 0.33 most likely represent music and other non-speech-like tracks.\n",
    "\n",
    "**tempo**\n",
    "The overall estimated tempo of a track in beats per minute (BPM). In musical terminology, tempo is the speed or pace of a given piece and derives directly from the average beat duration.\n",
    "\n",
    "**time_signature**\n",
    "An estimated time signature. The time signature (meter) is a notational convention to specify how many beats are in each bar (or measure). The time signature ranges from 3 to 7 indicating time signatures of \"3/4\", to \"7/4\".\n",
    "\n",
    "**valence**\n",
    "A measure from 0.0 to 1.0 describing the musical positiveness conveyed by a track. Tracks with high valence sound more positive (e.g. happy, cheerful, euphoric), while tracks with low valence sound more negative (e.g. sad, depressed, angry).\n",
    "\n",
    "**explicit**\n",
    "Whether or not the track has explicit lyrics ( true = yes it does; false = no it does not OR unknown)."
   ]
  },
  {
   "cell_type": "code",
   "execution_count": 7,
   "id": "d4002523-33f6-4f35-a02c-6ed30c0eafa3",
   "metadata": {},
   "outputs": [
    {
     "name": "stdout",
     "output_type": "stream",
     "text": [
      "<class 'pandas.core.frame.DataFrame'>\n",
      "RangeIndex: 101 entries, 0 to 100\n",
      "Data columns (total 19 columns):\n",
      " #   Column              Non-Null Count  Dtype  \n",
      "---  ------              --------------  -----  \n",
      " 0   id                  101 non-null    object \n",
      " 1   name                101 non-null    object \n",
      " 2   album_name          101 non-null    object \n",
      " 3   album_release_date  101 non-null    object \n",
      " 4   duration_ms         101 non-null    int64  \n",
      " 5   popularity          101 non-null    int64  \n",
      " 6   danceability        101 non-null    float64\n",
      " 7   energy              101 non-null    float64\n",
      " 8   key                 101 non-null    int64  \n",
      " 9   loudness            101 non-null    float64\n",
      " 10  mode                101 non-null    int64  \n",
      " 11  speechiness         101 non-null    float64\n",
      " 12  acousticness        101 non-null    float64\n",
      " 13  instrumentalness    101 non-null    float64\n",
      " 14  liveness            101 non-null    float64\n",
      " 15  tempo               101 non-null    float64\n",
      " 16  time_signature      101 non-null    int64  \n",
      " 17  valence             101 non-null    float64\n",
      " 18  explicit            101 non-null    bool   \n",
      "dtypes: bool(1), float64(9), int64(5), object(4)\n",
      "memory usage: 14.4+ KB\n"
     ]
    }
   ],
   "source": [
    "atw.info()"
   ]
  },
  {
   "cell_type": "code",
   "execution_count": 8,
   "id": "77d34b44-db6b-46ff-b60f-1cb6fa20ac3b",
   "metadata": {},
   "outputs": [
    {
     "data": {
      "text/plain": [
       "(101, 19)"
      ]
     },
     "execution_count": 8,
     "metadata": {},
     "output_type": "execute_result"
    }
   ],
   "source": [
    "atw.shape"
   ]
  },
  {
   "cell_type": "code",
   "execution_count": 9,
   "id": "e4225d93-a3b7-4efe-aba3-2fdab12e5474",
   "metadata": {},
   "outputs": [
    {
     "data": {
      "text/plain": [
       "album_name\n",
       "Live On The Internet                    16\n",
       "Live In Brussels                        14\n",
       "Our Mother Electricity                  10\n",
       "Lightning At The Door                   10\n",
       "Dying Surfer Meets His Maker             9\n",
       "Sleeping Through The War                 8\n",
       "ATW                                      8\n",
       "Nothing as the Ideal                     8\n",
       "At the Garage                            7\n",
       "Tiger's Pit                              1\n",
       "Slow City                                1\n",
       "Silver To Rust                           1\n",
       "Real Hippies Are Cowboys                 1\n",
       "6969 WXL THE CAGE                        1\n",
       "Mama Is a Shining Star                   1\n",
       "L'hotel Serein                           1\n",
       "Hush, I'm on TV                          1\n",
       "Holding Your Breath Across the River     1\n",
       "Acid Face                                1\n",
       "Tour Death Song                          1\n",
       "Name: id, dtype: int64"
      ]
     },
     "execution_count": 9,
     "metadata": {},
     "output_type": "execute_result"
    }
   ],
   "source": [
    "unique_songs_per_album = atw.groupby('album_name')['id'].nunique().sort_values(ascending=False)\n",
    "unique_songs_per_album"
   ]
  },
  {
   "cell_type": "markdown",
   "id": "b4247eb8-0da5-4f35-b61c-21a2b503e6cf",
   "metadata": {},
   "source": [
    "I'll remove all songs from the live albums because these are actually duplicates:"
   ]
  },
  {
   "cell_type": "code",
   "execution_count": 10,
   "id": "4950ddb3-4ffc-4428-a77b-ed7819547897",
   "metadata": {},
   "outputs": [],
   "source": [
    "atw = atw[~atw['album_name'].isin(['Live On The Internet', 'Live In Brussels', 'At the Garage'])].copy()"
   ]
  },
  {
   "cell_type": "markdown",
   "id": "3881cc95-10bd-4f32-b172-417dc76ed0d1",
   "metadata": {},
   "source": [
    "Let's check the most and least popular songs of All Them Witches on Spotify:"
   ]
  },
  {
   "cell_type": "code",
   "execution_count": 11,
   "id": "75ca17c4-e026-45b6-9b1b-934ad65b224a",
   "metadata": {},
   "outputs": [
    {
     "data": {
      "text/html": [
       "<style type=\"text/css\">\n",
       "#T_39d22 th {\n",
       "  background-color: #59839280;\n",
       "}\n",
       "#T_39d22_row0_col0, #T_39d22_row0_col1, #T_39d22_row0_col2, #T_39d22_row2_col0, #T_39d22_row2_col1, #T_39d22_row2_col2, #T_39d22_row4_col0, #T_39d22_row4_col1, #T_39d22_row4_col2, #T_39d22_row6_col0, #T_39d22_row6_col1, #T_39d22_row6_col2, #T_39d22_row8_col0, #T_39d22_row8_col1, #T_39d22_row8_col2, #T_39d22_row10_col0, #T_39d22_row10_col1, #T_39d22_row10_col2, #T_39d22_row12_col0, #T_39d22_row12_col1, #T_39d22_row12_col2, #T_39d22_row14_col0, #T_39d22_row14_col1, #T_39d22_row14_col2 {\n",
       "  background-color: #aec3b080;\n",
       "  color: black;\n",
       "  background-color: #eff6e080;\n",
       "  color: black;\n",
       "}\n",
       "#T_39d22_row1_col0, #T_39d22_row1_col1, #T_39d22_row1_col2, #T_39d22_row3_col0, #T_39d22_row3_col1, #T_39d22_row3_col2, #T_39d22_row5_col0, #T_39d22_row5_col1, #T_39d22_row5_col2, #T_39d22_row7_col0, #T_39d22_row7_col1, #T_39d22_row7_col2, #T_39d22_row9_col0, #T_39d22_row9_col1, #T_39d22_row9_col2, #T_39d22_row11_col0, #T_39d22_row11_col1, #T_39d22_row11_col2, #T_39d22_row13_col0, #T_39d22_row13_col1, #T_39d22_row13_col2 {\n",
       "  background-color: #aec3b080;\n",
       "  color: black;\n",
       "}\n",
       "</style>\n",
       "<table id=\"T_39d22\">\n",
       "  <thead>\n",
       "    <tr>\n",
       "      <th class=\"blank level0\" >&nbsp;</th>\n",
       "      <th id=\"T_39d22_level0_col0\" class=\"col_heading level0 col0\" >name</th>\n",
       "      <th id=\"T_39d22_level0_col1\" class=\"col_heading level0 col1\" >album_name</th>\n",
       "      <th id=\"T_39d22_level0_col2\" class=\"col_heading level0 col2\" >popularity</th>\n",
       "    </tr>\n",
       "  </thead>\n",
       "  <tbody>\n",
       "    <tr>\n",
       "      <th id=\"T_39d22_level0_row0\" class=\"row_heading level0 row0\" >71</th>\n",
       "      <td id=\"T_39d22_row0_col0\" class=\"data row0 col0\" >When God Comes Back</td>\n",
       "      <td id=\"T_39d22_row0_col1\" class=\"data row0 col1\" >Lightning At The Door</td>\n",
       "      <td id=\"T_39d22_row0_col2\" class=\"data row0 col2\" >54</td>\n",
       "    </tr>\n",
       "    <tr>\n",
       "      <th id=\"T_39d22_level0_row1\" class=\"row_heading level0 row1\" >17</th>\n",
       "      <td id=\"T_39d22_row1_col0\" class=\"data row1 col0\" >Enemy of My Enemy</td>\n",
       "      <td id=\"T_39d22_row1_col1\" class=\"data row1 col1\" >Nothing as the Ideal</td>\n",
       "      <td id=\"T_39d22_row1_col2\" class=\"data row1 col2\" >49</td>\n",
       "    </tr>\n",
       "    <tr>\n",
       "      <th id=\"T_39d22_level0_row2\" class=\"row_heading level0 row2\" >72</th>\n",
       "      <td id=\"T_39d22_row2_col0\" class=\"data row2 col0\" >The Marriage Of Coyote Woman</td>\n",
       "      <td id=\"T_39d22_row2_col1\" class=\"data row2 col1\" >Lightning At The Door</td>\n",
       "      <td id=\"T_39d22_row2_col2\" class=\"data row2 col2\" >49</td>\n",
       "    </tr>\n",
       "    <tr>\n",
       "      <th id=\"T_39d22_level0_row3\" class=\"row_heading level0 row3\" >20</th>\n",
       "      <td id=\"T_39d22_row3_col0\" class=\"data row3 col0\" >The Children of Coyote Woman</td>\n",
       "      <td id=\"T_39d22_row3_col1\" class=\"data row3 col1\" >Nothing as the Ideal</td>\n",
       "      <td id=\"T_39d22_row3_col2\" class=\"data row3 col2\" >48</td>\n",
       "    </tr>\n",
       "    <tr>\n",
       "      <th id=\"T_39d22_level0_row4\" class=\"row_heading level0 row4\" >36</th>\n",
       "      <td id=\"T_39d22_row4_col0\" class=\"data row4 col0\" >Am I Going Up?</td>\n",
       "      <td id=\"T_39d22_row4_col1\" class=\"data row4 col1\" >Sleeping Through The War</td>\n",
       "      <td id=\"T_39d22_row4_col2\" class=\"data row4 col2\" >48</td>\n",
       "    </tr>\n",
       "    <tr>\n",
       "      <th id=\"T_39d22_level0_row5\" class=\"row_heading level0 row5\" >28</th>\n",
       "      <td id=\"T_39d22_row5_col0\" class=\"data row5 col0\" >Diamond</td>\n",
       "      <td id=\"T_39d22_row5_col1\" class=\"data row5 col1\" >ATW</td>\n",
       "      <td id=\"T_39d22_row5_col2\" class=\"data row5 col2\" >46</td>\n",
       "    </tr>\n",
       "    <tr>\n",
       "      <th id=\"T_39d22_level0_row6\" class=\"row_heading level0 row6\" >21</th>\n",
       "      <td id=\"T_39d22_row6_col0\" class=\"data row6 col0\" >41</td>\n",
       "      <td id=\"T_39d22_row6_col1\" class=\"data row6 col1\" >Nothing as the Ideal</td>\n",
       "      <td id=\"T_39d22_row6_col2\" class=\"data row6 col2\" >45</td>\n",
       "    </tr>\n",
       "    <tr>\n",
       "      <th id=\"T_39d22_level0_row7\" class=\"row_heading level0 row7\" >35</th>\n",
       "      <td id=\"T_39d22_row7_col0\" class=\"data row7 col0\" >3-5-7</td>\n",
       "      <td id=\"T_39d22_row7_col1\" class=\"data row7 col1\" >Sleeping Through The War</td>\n",
       "      <td id=\"T_39d22_row7_col2\" class=\"data row7 col2\" >44</td>\n",
       "    </tr>\n",
       "    <tr>\n",
       "      <th id=\"T_39d22_level0_row8\" class=\"row_heading level0 row8\" >74</th>\n",
       "      <td id=\"T_39d22_row8_col0\" class=\"data row8 col0\" >Charles William</td>\n",
       "      <td id=\"T_39d22_row8_col1\" class=\"data row8 col1\" >Lightning At The Door</td>\n",
       "      <td id=\"T_39d22_row8_col2\" class=\"data row8 col2\" >44</td>\n",
       "    </tr>\n",
       "    <tr>\n",
       "      <th id=\"T_39d22_level0_row9\" class=\"row_heading level0 row9\" >84</th>\n",
       "      <td id=\"T_39d22_row9_col0\" class=\"data row9 col0\" >Elk.Blood.Heart</td>\n",
       "      <td id=\"T_39d22_row9_col1\" class=\"data row9 col1\" >Our Mother Electricity</td>\n",
       "      <td id=\"T_39d22_row9_col2\" class=\"data row9 col2\" >43</td>\n",
       "    </tr>\n",
       "    <tr>\n",
       "      <th id=\"T_39d22_level0_row10\" class=\"row_heading level0 row10\" >18</th>\n",
       "      <td id=\"T_39d22_row10_col0\" class=\"data row10 col0\" >Everest</td>\n",
       "      <td id=\"T_39d22_row10_col1\" class=\"data row10 col1\" >Nothing as the Ideal</td>\n",
       "      <td id=\"T_39d22_row10_col2\" class=\"data row10 col2\" >42</td>\n",
       "    </tr>\n",
       "    <tr>\n",
       "      <th id=\"T_39d22_level0_row11\" class=\"row_heading level0 row11\" >33</th>\n",
       "      <td id=\"T_39d22_row11_col0\" class=\"data row11 col0\" >Don't Bring Me Coffee</td>\n",
       "      <td id=\"T_39d22_row11_col1\" class=\"data row11 col1\" >Sleeping Through The War</td>\n",
       "      <td id=\"T_39d22_row11_col2\" class=\"data row11 col2\" >42</td>\n",
       "    </tr>\n",
       "    <tr>\n",
       "      <th id=\"T_39d22_level0_row12\" class=\"row_heading level0 row12\" >80</th>\n",
       "      <td id=\"T_39d22_row12_col0\" class=\"data row12 col0\" >Heavy/Like a Witch</td>\n",
       "      <td id=\"T_39d22_row12_col1\" class=\"data row12 col1\" >Our Mother Electricity</td>\n",
       "      <td id=\"T_39d22_row12_col2\" class=\"data row12 col2\" >42</td>\n",
       "    </tr>\n",
       "    <tr>\n",
       "      <th id=\"T_39d22_level0_row13\" class=\"row_heading level0 row13\" >97</th>\n",
       "      <td id=\"T_39d22_row13_col0\" class=\"data row13 col0\" >L'hotel Serein</td>\n",
       "      <td id=\"T_39d22_row13_col1\" class=\"data row13 col1\" >L'hotel Serein</td>\n",
       "      <td id=\"T_39d22_row13_col2\" class=\"data row13 col2\" >40</td>\n",
       "    </tr>\n",
       "    <tr>\n",
       "      <th id=\"T_39d22_level0_row14\" class=\"row_heading level0 row14\" >16</th>\n",
       "      <td id=\"T_39d22_row14_col0\" class=\"data row14 col0\" >Saturnine & Iron Jaw</td>\n",
       "      <td id=\"T_39d22_row14_col1\" class=\"data row14 col1\" >Nothing as the Ideal</td>\n",
       "      <td id=\"T_39d22_row14_col2\" class=\"data row14 col2\" >39</td>\n",
       "    </tr>\n",
       "  </tbody>\n",
       "</table>\n"
      ],
      "text/plain": [
       "<pandas.io.formats.style.Styler at 0x1312009a0>"
      ]
     },
     "execution_count": 11,
     "metadata": {},
     "output_type": "execute_result"
    }
   ],
   "source": [
    "top_10_songs = atw.nlargest(15, 'popularity')[['name', 'album_name', 'popularity']]\n",
    "top_10_songs = custom_styling(top_10_songs)\n",
    "top_10_songs"
   ]
  },
  {
   "cell_type": "code",
   "execution_count": 12,
   "id": "53d25c65-4e36-4909-ba0c-b9efd64ffd09",
   "metadata": {},
   "outputs": [
    {
     "data": {
      "text/html": [
       "<style type=\"text/css\">\n",
       "#T_d4633 th {\n",
       "  background-color: #59839280;\n",
       "}\n",
       "#T_d4633_row0_col0, #T_d4633_row0_col1, #T_d4633_row0_col2, #T_d4633_row2_col0, #T_d4633_row2_col1, #T_d4633_row2_col2, #T_d4633_row4_col0, #T_d4633_row4_col1, #T_d4633_row4_col2, #T_d4633_row6_col0, #T_d4633_row6_col1, #T_d4633_row6_col2, #T_d4633_row8_col0, #T_d4633_row8_col1, #T_d4633_row8_col2, #T_d4633_row10_col0, #T_d4633_row10_col1, #T_d4633_row10_col2, #T_d4633_row12_col0, #T_d4633_row12_col1, #T_d4633_row12_col2, #T_d4633_row14_col0, #T_d4633_row14_col1, #T_d4633_row14_col2 {\n",
       "  background-color: #aec3b080;\n",
       "  color: black;\n",
       "  background-color: #eff6e080;\n",
       "  color: black;\n",
       "}\n",
       "#T_d4633_row1_col0, #T_d4633_row1_col1, #T_d4633_row1_col2, #T_d4633_row3_col0, #T_d4633_row3_col1, #T_d4633_row3_col2, #T_d4633_row5_col0, #T_d4633_row5_col1, #T_d4633_row5_col2, #T_d4633_row7_col0, #T_d4633_row7_col1, #T_d4633_row7_col2, #T_d4633_row9_col0, #T_d4633_row9_col1, #T_d4633_row9_col2, #T_d4633_row11_col0, #T_d4633_row11_col1, #T_d4633_row11_col2, #T_d4633_row13_col0, #T_d4633_row13_col1, #T_d4633_row13_col2 {\n",
       "  background-color: #aec3b080;\n",
       "  color: black;\n",
       "}\n",
       "</style>\n",
       "<table id=\"T_d4633\">\n",
       "  <thead>\n",
       "    <tr>\n",
       "      <th class=\"blank level0\" >&nbsp;</th>\n",
       "      <th id=\"T_d4633_level0_col0\" class=\"col_heading level0 col0\" >name</th>\n",
       "      <th id=\"T_d4633_level0_col1\" class=\"col_heading level0 col1\" >album_name</th>\n",
       "      <th id=\"T_d4633_level0_col2\" class=\"col_heading level0 col2\" >popularity</th>\n",
       "    </tr>\n",
       "  </thead>\n",
       "  <tbody>\n",
       "    <tr>\n",
       "      <th id=\"T_d4633_level0_row0\" class=\"row_heading level0 row0\" >60</th>\n",
       "      <td id=\"T_d4633_row0_col0\" class=\"data row0 col0\" >Instrumental 2 (Welcome To The Caveman Future)</td>\n",
       "      <td id=\"T_d4633_row0_col1\" class=\"data row0 col1\" >Dying Surfer Meets His Maker</td>\n",
       "      <td id=\"T_d4633_row0_col2\" class=\"data row0 col2\" >21</td>\n",
       "    </tr>\n",
       "    <tr>\n",
       "      <th id=\"T_d4633_level0_row1\" class=\"row_heading level0 row1\" >58</th>\n",
       "      <td id=\"T_d4633_row1_col0\" class=\"data row1 col0\" >Mellowing</td>\n",
       "      <td id=\"T_d4633_row1_col1\" class=\"data row1 col1\" >Dying Surfer Meets His Maker</td>\n",
       "      <td id=\"T_d4633_row1_col2\" class=\"data row1 col2\" >22</td>\n",
       "    </tr>\n",
       "    <tr>\n",
       "      <th id=\"T_d4633_level0_row2\" class=\"row_heading level0 row2\" >55</th>\n",
       "      <td id=\"T_d4633_row2_col0\" class=\"data row2 col0\" >El Centro</td>\n",
       "      <td id=\"T_d4633_row2_col1\" class=\"data row2 col1\" >Dying Surfer Meets His Maker</td>\n",
       "      <td id=\"T_d4633_row2_col2\" class=\"data row2 col2\" >23</td>\n",
       "    </tr>\n",
       "    <tr>\n",
       "      <th id=\"T_d4633_level0_row3\" class=\"row_heading level0 row3\" >56</th>\n",
       "      <td id=\"T_d4633_row3_col0\" class=\"data row3 col0\" >Dirt Preachers</td>\n",
       "      <td id=\"T_d4633_row3_col1\" class=\"data row3 col1\" >Dying Surfer Meets His Maker</td>\n",
       "      <td id=\"T_d4633_row3_col2\" class=\"data row3 col2\" >23</td>\n",
       "    </tr>\n",
       "    <tr>\n",
       "      <th id=\"T_d4633_level0_row4\" class=\"row_heading level0 row4\" >57</th>\n",
       "      <td id=\"T_d4633_row4_col0\" class=\"data row4 col0\" >This Is Where It Falls Apart</td>\n",
       "      <td id=\"T_d4633_row4_col1\" class=\"data row4 col1\" >Dying Surfer Meets His Maker</td>\n",
       "      <td id=\"T_d4633_row4_col2\" class=\"data row4 col2\" >23</td>\n",
       "    </tr>\n",
       "    <tr>\n",
       "      <th id=\"T_d4633_level0_row5\" class=\"row_heading level0 row5\" >59</th>\n",
       "      <td id=\"T_d4633_row5_col0\" class=\"data row5 col0\" >Open Passageways</td>\n",
       "      <td id=\"T_d4633_row5_col1\" class=\"data row5 col1\" >Dying Surfer Meets His Maker</td>\n",
       "      <td id=\"T_d4633_row5_col2\" class=\"data row5 col2\" >23</td>\n",
       "    </tr>\n",
       "    <tr>\n",
       "      <th id=\"T_d4633_level0_row6\" class=\"row_heading level0 row6\" >61</th>\n",
       "      <td id=\"T_d4633_row6_col0\" class=\"data row6 col0\" >Talisman</td>\n",
       "      <td id=\"T_d4633_row6_col1\" class=\"data row6 col1\" >Dying Surfer Meets His Maker</td>\n",
       "      <td id=\"T_d4633_row6_col2\" class=\"data row6 col2\" >23</td>\n",
       "    </tr>\n",
       "    <tr>\n",
       "      <th id=\"T_d4633_level0_row7\" class=\"row_heading level0 row7\" >54</th>\n",
       "      <td id=\"T_d4633_row7_col0\" class=\"data row7 col0\" >Call Me Star</td>\n",
       "      <td id=\"T_d4633_row7_col1\" class=\"data row7 col1\" >Dying Surfer Meets His Maker</td>\n",
       "      <td id=\"T_d4633_row7_col2\" class=\"data row7 col2\" >24</td>\n",
       "    </tr>\n",
       "    <tr>\n",
       "      <th id=\"T_d4633_level0_row8\" class=\"row_heading level0 row8\" >62</th>\n",
       "      <td id=\"T_d4633_row8_col0\" class=\"data row8 col0\" >Blood And Sand / Milk And Endless Waters</td>\n",
       "      <td id=\"T_d4633_row8_col1\" class=\"data row8 col1\" >Dying Surfer Meets His Maker</td>\n",
       "      <td id=\"T_d4633_row8_col2\" class=\"data row8 col2\" >24</td>\n",
       "    </tr>\n",
       "    <tr>\n",
       "      <th id=\"T_d4633_level0_row9\" class=\"row_heading level0 row9\" >91</th>\n",
       "      <td id=\"T_d4633_row9_col0\" class=\"data row9 col0\" >Mama Is a Shining Star</td>\n",
       "      <td id=\"T_d4633_row9_col1\" class=\"data row9 col1\" >Mama Is a Shining Star</td>\n",
       "      <td id=\"T_d4633_row9_col2\" class=\"data row9 col2\" >24</td>\n",
       "    </tr>\n",
       "    <tr>\n",
       "      <th id=\"T_d4633_level0_row10\" class=\"row_heading level0 row10\" >96</th>\n",
       "      <td id=\"T_d4633_row10_col0\" class=\"data row10 col0\" >6969 WXL THE CAGE</td>\n",
       "      <td id=\"T_d4633_row10_col1\" class=\"data row10 col1\" >6969 WXL THE CAGE</td>\n",
       "      <td id=\"T_d4633_row10_col2\" class=\"data row10 col2\" >24</td>\n",
       "    </tr>\n",
       "    <tr>\n",
       "      <th id=\"T_d4633_level0_row11\" class=\"row_heading level0 row11\" >85</th>\n",
       "      <td id=\"T_d4633_row11_col0\" class=\"data row11 col0\" >Until It Unwinds</td>\n",
       "      <td id=\"T_d4633_row11_col1\" class=\"data row11 col1\" >Our Mother Electricity</td>\n",
       "      <td id=\"T_d4633_row11_col2\" class=\"data row11 col2\" >27</td>\n",
       "    </tr>\n",
       "    <tr>\n",
       "      <th id=\"T_d4633_level0_row12\" class=\"row_heading level0 row12\" >98</th>\n",
       "      <td id=\"T_d4633_row12_col0\" class=\"data row12 col0\" >Acid Face</td>\n",
       "      <td id=\"T_d4633_row12_col1\" class=\"data row12 col1\" >Acid Face</td>\n",
       "      <td id=\"T_d4633_row12_col2\" class=\"data row12 col2\" >28</td>\n",
       "    </tr>\n",
       "    <tr>\n",
       "      <th id=\"T_d4633_level0_row13\" class=\"row_heading level0 row13\" >99</th>\n",
       "      <td id=\"T_d4633_row13_col0\" class=\"data row13 col0\" >Slow City</td>\n",
       "      <td id=\"T_d4633_row13_col1\" class=\"data row13 col1\" >Slow City</td>\n",
       "      <td id=\"T_d4633_row13_col2\" class=\"data row13 col2\" >28</td>\n",
       "    </tr>\n",
       "    <tr>\n",
       "      <th id=\"T_d4633_level0_row14\" class=\"row_heading level0 row14\" >26</th>\n",
       "      <td id=\"T_d4633_row14_col0\" class=\"data row14 col0\" >1st vs. 2nd</td>\n",
       "      <td id=\"T_d4633_row14_col1\" class=\"data row14 col1\" >ATW</td>\n",
       "      <td id=\"T_d4633_row14_col2\" class=\"data row14 col2\" >29</td>\n",
       "    </tr>\n",
       "  </tbody>\n",
       "</table>\n"
      ],
      "text/plain": [
       "<pandas.io.formats.style.Styler at 0x13101e730>"
      ]
     },
     "execution_count": 12,
     "metadata": {},
     "output_type": "execute_result"
    }
   ],
   "source": [
    "bottom_10_songs = atw.nsmallest(15, 'popularity')[['name', 'album_name', 'popularity']]\n",
    "bottom_10_songs = custom_styling(bottom_10_songs)\n",
    "bottom_10_songs"
   ]
  },
  {
   "cell_type": "markdown",
   "id": "96322219-6046-414b-8531-72b8ae03a151",
   "metadata": {},
   "source": [
    "The entire album \"Dying Surfer Meets His Maker\" is very unpopular. That's strange. (I like it and don't think it's any worse than the other albums. This must have other reasons.)\n",
    "\n",
    "Let's have a look at the average popularity of each album. I'll exclude those with only one track."
   ]
  },
  {
   "cell_type": "code",
   "execution_count": 13,
   "id": "c4df4ae5-b393-47df-b9c4-082eda99311a",
   "metadata": {},
   "outputs": [
    {
     "data": {
      "text/html": [
       "<style type=\"text/css\">\n",
       "#T_fed2e th {\n",
       "  background-color: #59839280;\n",
       "}\n",
       "#T_fed2e_row0_col0, #T_fed2e_row0_col1, #T_fed2e_row2_col0, #T_fed2e_row2_col1, #T_fed2e_row4_col0, #T_fed2e_row4_col1 {\n",
       "  background-color: #aec3b080;\n",
       "  color: black;\n",
       "  background-color: #eff6e080;\n",
       "  color: black;\n",
       "}\n",
       "#T_fed2e_row1_col0, #T_fed2e_row1_col1, #T_fed2e_row3_col0, #T_fed2e_row3_col1, #T_fed2e_row5_col0, #T_fed2e_row5_col1 {\n",
       "  background-color: #aec3b080;\n",
       "  color: black;\n",
       "}\n",
       "</style>\n",
       "<table id=\"T_fed2e\">\n",
       "  <thead>\n",
       "    <tr>\n",
       "      <th class=\"blank level0\" >&nbsp;</th>\n",
       "      <th id=\"T_fed2e_level0_col0\" class=\"col_heading level0 col0\" >album_name</th>\n",
       "      <th id=\"T_fed2e_level0_col1\" class=\"col_heading level0 col1\" >popularity</th>\n",
       "    </tr>\n",
       "  </thead>\n",
       "  <tbody>\n",
       "    <tr>\n",
       "      <th id=\"T_fed2e_level0_row0\" class=\"row_heading level0 row0\" >0</th>\n",
       "      <td id=\"T_fed2e_row0_col0\" class=\"data row0 col0\" >Nothing as the Ideal</td>\n",
       "      <td id=\"T_fed2e_row0_col1\" class=\"data row0 col1\" >41.5</td>\n",
       "    </tr>\n",
       "    <tr>\n",
       "      <th id=\"T_fed2e_level0_row1\" class=\"row_heading level0 row1\" >1</th>\n",
       "      <td id=\"T_fed2e_row1_col0\" class=\"data row1 col0\" >Sleeping Through The War</td>\n",
       "      <td id=\"T_fed2e_row1_col1\" class=\"data row1 col1\" >38.9</td>\n",
       "    </tr>\n",
       "    <tr>\n",
       "      <th id=\"T_fed2e_level0_row2\" class=\"row_heading level0 row2\" >2</th>\n",
       "      <td id=\"T_fed2e_row2_col0\" class=\"data row2 col0\" >Lightning At The Door</td>\n",
       "      <td id=\"T_fed2e_row2_col1\" class=\"data row2 col1\" >38.2</td>\n",
       "    </tr>\n",
       "    <tr>\n",
       "      <th id=\"T_fed2e_level0_row3\" class=\"row_heading level0 row3\" >3</th>\n",
       "      <td id=\"T_fed2e_row3_col0\" class=\"data row3 col0\" >ATW</td>\n",
       "      <td id=\"T_fed2e_row3_col1\" class=\"data row3 col1\" >34.9</td>\n",
       "    </tr>\n",
       "    <tr>\n",
       "      <th id=\"T_fed2e_level0_row4\" class=\"row_heading level0 row4\" >4</th>\n",
       "      <td id=\"T_fed2e_row4_col0\" class=\"data row4 col0\" >Our Mother Electricity</td>\n",
       "      <td id=\"T_fed2e_row4_col1\" class=\"data row4 col1\" >34.1</td>\n",
       "    </tr>\n",
       "    <tr>\n",
       "      <th id=\"T_fed2e_level0_row5\" class=\"row_heading level0 row5\" >5</th>\n",
       "      <td id=\"T_fed2e_row5_col0\" class=\"data row5 col0\" >Dying Surfer Meets His Maker</td>\n",
       "      <td id=\"T_fed2e_row5_col1\" class=\"data row5 col1\" >22.9</td>\n",
       "    </tr>\n",
       "  </tbody>\n",
       "</table>\n"
      ],
      "text/plain": [
       "<pandas.io.formats.style.Styler at 0x131198880>"
      ]
     },
     "execution_count": 13,
     "metadata": {},
     "output_type": "execute_result"
    }
   ],
   "source": [
    "album_counts = atw['album_name'].value_counts()\n",
    "valid_albums = album_counts[album_counts >= 2].index\n",
    "atw_filtered = atw[atw['album_name'].isin(valid_albums)]\n",
    "album_popularity = atw_filtered.groupby('album_name')['popularity'].mean().sort_values(ascending=False).reset_index()\n",
    "styled_album_popularity = custom_styling(album_popularity).format({'popularity': '{:.1f}'})\n",
    "styled_album_popularity"
   ]
  },
  {
   "cell_type": "markdown",
   "id": "c1261fe4-f3ea-4a35-b314-9b18dbb458b9",
   "metadata": {},
   "source": [
    "Of course, \"Dying Surfer Meets His Maker\" is in last place. \"Nothing as the Ideal\" is the newest album, I can imagine that this also plays a role for the popularity. I'll check that later when I explore relationships between the variables.\n",
    "\n",
    "Let's have a quick look at the number of (studio) tracks released each year."
   ]
  },
  {
   "cell_type": "code",
   "execution_count": 14,
   "id": "ccd28c40-97ea-4c40-b00f-c3da2fb06b0d",
   "metadata": {},
   "outputs": [],
   "source": [
    "atw['album_release_date'] = pd.to_datetime(atw['album_release_date'])\n",
    "counts = atw.groupby(atw['album_release_date'].dt.to_period('Y'))['id'].count()"
   ]
  },
  {
   "cell_type": "code",
   "execution_count": 15,
   "id": "16c20185-5702-4acb-b238-7b2c37c36da7",
   "metadata": {},
   "outputs": [
    {
     "data": {
      "image/png": "[encoded data removed]",
      "text/plain": [
       "<Figure size 900x550 with 1 Axes>"
      ]
     },
     "metadata": {},
     "output_type": "display_data"
    }
   ],
   "source": [
    "plt.figure(figsize=(9, 5.5))\n",
    "for date, count in counts.items():\n",
    "    y_values = list(range(1, count + 1))\n",
    "    plt.plot([date.to_timestamp()] * count, y_values, marker='o', color='#aec3b0', markersize=15, linestyle='None')\n",
    "    if date.year  in [2012, 2013, 2015, 2017, 2018, 2020]:\n",
    "        plt.plot([date.to_timestamp(), date.to_timestamp()], [1, count], color='#aec3b0', linestyle='-')\n",
    "\n",
    "plt.xlabel('')\n",
    "plt.ylabel('')\n",
    "plt.title('Number of studio tracks released per year')\n",
    "plt.gca().xaxis.set_major_locator(YearLocator())\n",
    "plt.text(pd.Timestamp('2012-04-01'), 1, \"'Our Mother Electricity'\", fontsize=10, rotation=90, color='#598392')\n",
    "plt.text(pd.Timestamp('2013-04-01'), 1, \"'Lightning at the Door'\", fontsize=10, rotation=90, color='#598392')\n",
    "plt.text(pd.Timestamp('2015-04-01'), 1, \"'Dying Surfer Meets His Maker'\", fontsize=10, rotation=90, color='#598392')\n",
    "plt.text(pd.Timestamp('2017-04-01'), 1, \"'Sleeping Through the War'\", fontsize=10, rotation=90, color='#598392')\n",
    "plt.text(pd.Timestamp('2018-04-01'), 1, \"'ATW'\", fontsize=10, rotation=90, color='#598392')\n",
    "plt.text(pd.Timestamp('2020-04-01'), 1, \"'Nothing as the Ideal'\", fontsize=10, rotation=90, color='#598392')\n",
    "plt.text(pd.Timestamp('2022-04-01'), 1, \"various one track albums\", fontsize=10, rotation=90, color='#598392')\n",
    "plt.yticks(range(1, 12))\n",
    "plt.ylim(0.5, 11.5)\n",
    "plt.xticks(rotation=45)\n",
    "plt.tight_layout()\n",
    "plt.show()"
   ]
  },
  {
   "cell_type": "markdown",
   "id": "7d91494a-a87a-4041-9b18-652d9df3948b",
   "metadata": {},
   "source": [
    "But let's now have a close look at the distributions of the variables before we explore the relationships."
   ]
  },
  {
   "cell_type": "markdown",
   "id": "81f70967-2b24-4d78-bdde-59c587659295",
   "metadata": {},
   "source": [
    "### valence\n",
    "\n",
    "The first thing that I'm interested in is the valence value. Remember: It's a value between 0 and 1 while 0 means negative (sad, depressed, angry, etc.) and 1 means positive (happy, cheerful, euphoric, etc.). I assume that the values for this band will be closer to 0..."
   ]
  },
  {
   "cell_type": "code",
   "execution_count": 16,
   "id": "24441baf-c9b5-418c-9e23-861223c3a7c1",
   "metadata": {},
   "outputs": [
    {
     "data": {
      "image/png": "[encoded data removed]",
      "text/plain": [
       "<Figure size 600x400 with 1 Axes>"
      ]
     },
     "metadata": {},
     "output_type": "display_data"
    }
   ],
   "source": [
    "bin_boundaries = np.arange(0, 0.8, 0.1)\n",
    "plt.figure(figsize=(6,4))\n",
    "sns.histplot(atw['valence'], kde=True, color='#aec3b0', edgecolor='#124559', linewidth=0.5, bins=bin_boundaries, stat='count')\n",
    "plt.title('')\n",
    "plt.xlabel('Valence')\n",
    "plt.ylabel('Count')\n",
    "plt.yticks(np.arange(0, 21, 5)) \n",
    "plt.grid(True)\n",
    "plt.text(0.39, 13,f\"Smallest valence: {atw['valence'].min():.2f} \\n({atw.loc[atw['valence'].idxmin(), 'name']})\\n\\nLargest valence: {atw['valence'].max():.2f} \\n({atw.loc[atw['valence'].idxmax(), 'name']})\", color='#598392', fontsize=9)\n",
    "plt.show();"
   ]
  },
  {
   "cell_type": "markdown",
   "id": "700cbdba-afae-4e26-949e-867fc79f29b6",
   "metadata": {},
   "source": [
    "Indeed, the mood of the songs is rather gloomy. So these values are not surprising to me."
   ]
  },
  {
   "cell_type": "code",
   "execution_count": 17,
   "id": "fa543dd7-ea7f-4298-aab9-86b6b6681cf1",
   "metadata": {},
   "outputs": [
    {
     "data": {
      "text/plain": [
       "Index(['id', 'name', 'album_name', 'album_release_date', 'duration_ms',\n",
       "       'popularity', 'danceability', 'energy', 'key', 'loudness', 'mode',\n",
       "       'speechiness', 'acousticness', 'instrumentalness', 'liveness', 'tempo',\n",
       "       'time_signature', 'valence', 'explicit'],\n",
       "      dtype='object')"
      ]
     },
     "execution_count": 17,
     "metadata": {},
     "output_type": "execute_result"
    }
   ],
   "source": [
    "atw.columns"
   ]
  },
  {
   "cell_type": "code",
   "execution_count": null,
   "id": "5f33fe1a-7cd0-4114-88f5-2ef8477a5176",
   "metadata": {},
   "outputs": [],
   "source": []
  }
 ],
 "metadata": {
  "kernelspec": {
   "display_name": "Python 3 (ipykernel)",
   "language": "python",
   "name": "python3"
  },
  "language_info": {
   "codemirror_mode": {
    "name": "ipython",
    "version": 3
   },
   "file_extension": ".py",
   "mimetype": "text/x-python",
   "name": "python",
   "nbconvert_exporter": "python",
   "pygments_lexer": "ipython3",
   "version": "3.9.8"
  }
 },
 "nbformat": 4,
 "nbformat_minor": 5
}
