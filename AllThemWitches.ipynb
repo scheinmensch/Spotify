{
 "cells": [
  {
   "cell_type": "code",
   "execution_count": 1,
   "id": "9b291216-741e-47fe-98f3-1c5ef1572d57",
   "metadata": {},
   "outputs": [],
   "source": [
    "import pandas as pd\n",
    "import seaborn as sns\n",
    "import matplotlib.pyplot as plt\n",
    "import numpy as np"
   ]
  },
  {
   "cell_type": "code",
   "execution_count": 2,
   "id": "dbe92034-6b01-4a65-9a76-99fa28cc54c9",
   "metadata": {},
   "outputs": [
    {
     "data": {
      "image/png": "[encoded data removed]",
      "text/plain": [
       "<Figure size 500x50 with 1 Axes>"
      ]
     },
     "metadata": {},
     "output_type": "display_data"
    }
   ],
   "source": [
    "sns.set()\n",
    "c_pal = [\"#01161e\",\"#124559\",\"#598392\",\"#aec3b0\",\"#eff6e0\"]\n",
    "fig, ax = plt.subplots(figsize=(5, 0.5))\n",
    "for i, color in enumerate(c_pal):\n",
    "    ax.add_patch(plt.Rectangle((i, 0), 1, 1, color=color))\n",
    "ax.set_xlim(0, len(c_pal))\n",
    "ax.set_ylim(0, 1)\n",
    "ax.set_xticks([])\n",
    "ax.set_yticks([])\n",
    "plt.title('color palette')\n",
    "plt.show();"
   ]
  },
  {
   "cell_type": "code",
   "execution_count": 3,
   "id": "49a6a93c-689a-4d46-b3e1-9269bc3222c1",
   "metadata": {},
   "outputs": [],
   "source": [
    "atw = pd.read_csv('data/AllThemWitches.csv')"
   ]
  },
  {
   "cell_type": "code",
   "execution_count": 4,
   "id": "53b9bbf3-d05f-49a5-946c-b47df3d4e386",
   "metadata": {},
   "outputs": [],
   "source": [
    "atw = atw[['id', 'name', 'album_name', 'album_release_date', 'duration_ms', 'popularity', 'danceability', 'energy', 'key', 'loudness', 'mode', 'speechiness',\n",
    "       'acousticness', 'instrumentalness', 'liveness', 'tempo', 'time_signature', 'valence', 'explicit']].copy()"
   ]
  },
  {
   "cell_type": "code",
   "execution_count": 5,
   "id": "f85df2b1-2a28-4aec-bb3a-dd9f977e4f3d",
   "metadata": {},
   "outputs": [
    {
     "data": {
      "text/plain": [
       "Index(['id', 'name', 'album_name', 'album_release_date', 'duration_ms',\n",
       "       'popularity', 'danceability', 'energy', 'key', 'loudness', 'mode',\n",
       "       'speechiness', 'acousticness', 'instrumentalness', 'liveness', 'tempo',\n",
       "       'time_signature', 'valence', 'explicit'],\n",
       "      dtype='object')"
      ]
     },
     "execution_count": 5,
     "metadata": {},
     "output_type": "execute_result"
    }
   ],
   "source": [
    "atw.columns"
   ]
  },
  {
   "cell_type": "markdown",
   "id": "13751451-3cd7-4959-b347-6cb677e8660e",
   "metadata": {},
   "source": [
    "### What do all these audio features mean?\n",
    "\n",
    "Let's have a look at the [Spotify Web API documentation](https://developer.spotify.com/documentation/web-api/reference/get-audio-features)\n",
    "\n",
    "**popularity**\n",
    "The popularity of the track. The value will be between 0 and 100, with 100 being the most popular.\n",
    "The popularity of a track is a value between 0 and 100, with 100 being the most popular. The popularity is calculated by algorithm and is based, in the most part, on the total number of plays the track has had and how recent those plays are.\n",
    "Generally speaking, songs that are being played a lot now will have a higher popularity than songs that were played a lot in the past.\n",
    "\n",
    "**duration_ms**\n",
    "The duration of the track in milliseconds.\n",
    "\n",
    "**acousticness**\n",
    "A confidence measure from 0.0 to 1.0 of whether the track is acoustic. 1.0 represents high confidence the track is acoustic.\n",
    "\n",
    "**danceability**\n",
    "Danceability describes how suitable a track is for dancing based on a combination of musical elements including tempo, rhythm stability, beat strength, and overall regularity. A value of 0.0 is least danceable and 1.0 is most danceable.\n",
    "\n",
    "**energy**\n",
    "Energy is a measure from 0.0 to 1.0 and represents a perceptual measure of intensity and activity. Typically, energetic tracks feel fast, loud, and noisy. For example, death metal has high energy, while a Bach prelude scores low on the scale. Perceptual features contributing to this attribute include dynamic range, perceived loudness, timbre, onset rate, and general entropy.\n",
    "\n",
    "**instrumentalness**\n",
    "Predicts whether a track contains no vocals. \"Ooh\" and \"aah\" sounds are treated as instrumental in this context. Rap or spoken word tracks are clearly \"vocal\". The closer the instrumentalness value is to 1.0, the greater likelihood the track contains no vocal content. Values above 0.5 are intended to represent instrumental tracks, but confidence is higher as the value approaches 1.0.\n",
    "\n",
    "**key**\n",
    "The key the track is in. Integers map to pitches using standard Pitch Class notation. E.g. 0 = C, 1 = C♯/D♭, 2 = D, and so on. If no key was detected, the value is -1.\n",
    "\n",
    "**liveness**\n",
    "Detects the presence of an audience in the recording. Higher liveness values represent an increased probability that the track was performed live. A value above 0.8 provides strong likelihood that the track is live.\n",
    "\n",
    "**loudness**\n",
    "The overall loudness of a track in decibels (dB). Loudness values are averaged across the entire track and are useful for comparing relative loudness of tracks. Loudness is the quality of a sound that is the primary psychological correlate of physical strength (amplitude). Values typically range between -60 and 0 db.\n",
    "\n",
    "**mode**\n",
    "Mode indicates the modality (major or minor) of a track, the type of scale from which its melodic content is derived. Major is represented by 1 and minor is 0.\n",
    "\n",
    "**speechiness**\n",
    "Speechiness detects the presence of spoken words in a track. The more exclusively speech-like the recording (e.g. talk show, audio book, poetry), the closer to 1.0 the attribute value. Values above 0.66 describe tracks that are probably made entirely of spoken words. Values between 0.33 and 0.66 describe tracks that may contain both music and speech, either in sections or layered, including such cases as rap music. Values below 0.33 most likely represent music and other non-speech-like tracks.\n",
    "\n",
    "**tempo**\n",
    "The overall estimated tempo of a track in beats per minute (BPM). In musical terminology, tempo is the speed or pace of a given piece and derives directly from the average beat duration.\n",
    "\n",
    "**time_signature**\n",
    "An estimated time signature. The time signature (meter) is a notational convention to specify how many beats are in each bar (or measure). The time signature ranges from 3 to 7 indicating time signatures of \"3/4\", to \"7/4\".\n",
    "\n",
    "**valence**\n",
    "A measure from 0.0 to 1.0 describing the musical positiveness conveyed by a track. Tracks with high valence sound more positive (e.g. happy, cheerful, euphoric), while tracks with low valence sound more negative (e.g. sad, depressed, angry).\n",
    "\n",
    "**explicit**\n",
    "Whether or not the track has explicit lyrics ( true = yes it does; false = no it does not OR unknown)."
   ]
  },
  {
   "cell_type": "code",
   "execution_count": 6,
   "id": "d4002523-33f6-4f35-a02c-6ed30c0eafa3",
   "metadata": {},
   "outputs": [
    {
     "name": "stdout",
     "output_type": "stream",
     "text": [
      "<class 'pandas.core.frame.DataFrame'>\n",
      "RangeIndex: 101 entries, 0 to 100\n",
      "Data columns (total 19 columns):\n",
      " #   Column              Non-Null Count  Dtype  \n",
      "---  ------              --------------  -----  \n",
      " 0   id                  101 non-null    object \n",
      " 1   name                101 non-null    object \n",
      " 2   album_name          101 non-null    object \n",
      " 3   album_release_date  101 non-null    object \n",
      " 4   duration_ms         101 non-null    int64  \n",
      " 5   popularity          101 non-null    int64  \n",
      " 6   danceability        101 non-null    float64\n",
      " 7   energy              101 non-null    float64\n",
      " 8   key                 101 non-null    int64  \n",
      " 9   loudness            101 non-null    float64\n",
      " 10  mode                101 non-null    int64  \n",
      " 11  speechiness         101 non-null    float64\n",
      " 12  acousticness        101 non-null    float64\n",
      " 13  instrumentalness    101 non-null    float64\n",
      " 14  liveness            101 non-null    float64\n",
      " 15  tempo               101 non-null    float64\n",
      " 16  time_signature      101 non-null    int64  \n",
      " 17  valence             101 non-null    float64\n",
      " 18  explicit            101 non-null    bool   \n",
      "dtypes: bool(1), float64(9), int64(5), object(4)\n",
      "memory usage: 14.4+ KB\n"
     ]
    }
   ],
   "source": [
    "atw.info()"
   ]
  },
  {
   "cell_type": "code",
   "execution_count": 7,
   "id": "77d34b44-db6b-46ff-b60f-1cb6fa20ac3b",
   "metadata": {},
   "outputs": [
    {
     "data": {
      "text/plain": [
       "(101, 19)"
      ]
     },
     "execution_count": 7,
     "metadata": {},
     "output_type": "execute_result"
    }
   ],
   "source": [
    "atw.shape"
   ]
  },
  {
   "cell_type": "code",
   "execution_count": 8,
   "id": "e4225d93-a3b7-4efe-aba3-2fdab12e5474",
   "metadata": {},
   "outputs": [
    {
     "data": {
      "text/plain": [
       "album_name\n",
       "Live On The Internet                    16\n",
       "Live In Brussels                        14\n",
       "Our Mother Electricity                  10\n",
       "Lightning At The Door                   10\n",
       "Dying Surfer Meets His Maker             9\n",
       "Sleeping Through The War                 8\n",
       "ATW                                      8\n",
       "Nothing as the Ideal                     8\n",
       "At the Garage                            7\n",
       "Tiger's Pit                              1\n",
       "Slow City                                1\n",
       "Silver To Rust                           1\n",
       "Real Hippies Are Cowboys                 1\n",
       "6969 WXL THE CAGE                        1\n",
       "Mama Is a Shining Star                   1\n",
       "L'hotel Serein                           1\n",
       "Hush, I'm on TV                          1\n",
       "Holding Your Breath Across the River     1\n",
       "Acid Face                                1\n",
       "Tour Death Song                          1\n",
       "Name: id, dtype: int64"
      ]
     },
     "execution_count": 8,
     "metadata": {},
     "output_type": "execute_result"
    }
   ],
   "source": [
    "unique_songs_per_album = atw.groupby('album_name')['id'].nunique().sort_values(ascending=False)\n",
    "unique_songs_per_album"
   ]
  },
  {
   "cell_type": "markdown",
   "id": "b4247eb8-0da5-4f35-b61c-21a2b503e6cf",
   "metadata": {},
   "source": [
    "I'll remove all songs from the live albums because these are actually duplicates:"
   ]
  },
  {
   "cell_type": "code",
   "execution_count": 9,
   "id": "4950ddb3-4ffc-4428-a77b-ed7819547897",
   "metadata": {},
   "outputs": [],
   "source": [
    "atw = atw[~atw['album_name'].isin(['Live On The Internet', 'Live In Brussels', 'At the Garage'])].copy()"
   ]
  },
  {
   "cell_type": "markdown",
   "id": "3881cc95-10bd-4f32-b172-417dc76ed0d1",
   "metadata": {},
   "source": [
    "Let's check the most and least popular songs of All Them Witches on Spotify:"
   ]
  },
  {
   "cell_type": "code",
   "execution_count": 10,
   "id": "75ca17c4-e026-45b6-9b1b-934ad65b224a",
   "metadata": {},
   "outputs": [
    {
     "data": {
      "text/html": [
       "<div>\n",
       "<style scoped>\n",
       "    .dataframe tbody tr th:only-of-type {\n",
       "        vertical-align: middle;\n",
       "    }\n",
       "\n",
       "    .dataframe tbody tr th {\n",
       "        vertical-align: top;\n",
       "    }\n",
       "\n",
       "    .dataframe thead th {\n",
       "        text-align: right;\n",
       "    }\n",
       "</style>\n",
       "<table border=\"1\" class=\"dataframe\">\n",
       "  <thead>\n",
       "    <tr style=\"text-align: right;\">\n",
       "      <th></th>\n",
       "      <th>name</th>\n",
       "      <th>album_name</th>\n",
       "      <th>popularity</th>\n",
       "    </tr>\n",
       "  </thead>\n",
       "  <tbody>\n",
       "    <tr>\n",
       "      <th>71</th>\n",
       "      <td>When God Comes Back</td>\n",
       "      <td>Lightning At The Door</td>\n",
       "      <td>54</td>\n",
       "    </tr>\n",
       "    <tr>\n",
       "      <th>17</th>\n",
       "      <td>Enemy of My Enemy</td>\n",
       "      <td>Nothing as the Ideal</td>\n",
       "      <td>49</td>\n",
       "    </tr>\n",
       "    <tr>\n",
       "      <th>72</th>\n",
       "      <td>The Marriage Of Coyote Woman</td>\n",
       "      <td>Lightning At The Door</td>\n",
       "      <td>49</td>\n",
       "    </tr>\n",
       "    <tr>\n",
       "      <th>20</th>\n",
       "      <td>The Children of Coyote Woman</td>\n",
       "      <td>Nothing as the Ideal</td>\n",
       "      <td>48</td>\n",
       "    </tr>\n",
       "    <tr>\n",
       "      <th>36</th>\n",
       "      <td>Am I Going Up?</td>\n",
       "      <td>Sleeping Through The War</td>\n",
       "      <td>48</td>\n",
       "    </tr>\n",
       "    <tr>\n",
       "      <th>28</th>\n",
       "      <td>Diamond</td>\n",
       "      <td>ATW</td>\n",
       "      <td>46</td>\n",
       "    </tr>\n",
       "    <tr>\n",
       "      <th>21</th>\n",
       "      <td>41</td>\n",
       "      <td>Nothing as the Ideal</td>\n",
       "      <td>45</td>\n",
       "    </tr>\n",
       "    <tr>\n",
       "      <th>35</th>\n",
       "      <td>3-5-7</td>\n",
       "      <td>Sleeping Through The War</td>\n",
       "      <td>44</td>\n",
       "    </tr>\n",
       "    <tr>\n",
       "      <th>74</th>\n",
       "      <td>Charles William</td>\n",
       "      <td>Lightning At The Door</td>\n",
       "      <td>44</td>\n",
       "    </tr>\n",
       "    <tr>\n",
       "      <th>84</th>\n",
       "      <td>Elk.Blood.Heart</td>\n",
       "      <td>Our Mother Electricity</td>\n",
       "      <td>43</td>\n",
       "    </tr>\n",
       "    <tr>\n",
       "      <th>18</th>\n",
       "      <td>Everest</td>\n",
       "      <td>Nothing as the Ideal</td>\n",
       "      <td>42</td>\n",
       "    </tr>\n",
       "    <tr>\n",
       "      <th>33</th>\n",
       "      <td>Don't Bring Me Coffee</td>\n",
       "      <td>Sleeping Through The War</td>\n",
       "      <td>42</td>\n",
       "    </tr>\n",
       "    <tr>\n",
       "      <th>80</th>\n",
       "      <td>Heavy/Like a Witch</td>\n",
       "      <td>Our Mother Electricity</td>\n",
       "      <td>42</td>\n",
       "    </tr>\n",
       "    <tr>\n",
       "      <th>97</th>\n",
       "      <td>L'hotel Serein</td>\n",
       "      <td>L'hotel Serein</td>\n",
       "      <td>40</td>\n",
       "    </tr>\n",
       "    <tr>\n",
       "      <th>16</th>\n",
       "      <td>Saturnine &amp; Iron Jaw</td>\n",
       "      <td>Nothing as the Ideal</td>\n",
       "      <td>39</td>\n",
       "    </tr>\n",
       "  </tbody>\n",
       "</table>\n",
       "</div>"
      ],
      "text/plain": [
       "                            name                album_name  popularity\n",
       "71           When God Comes Back     Lightning At The Door          54\n",
       "17             Enemy of My Enemy      Nothing as the Ideal          49\n",
       "72  The Marriage Of Coyote Woman     Lightning At The Door          49\n",
       "20  The Children of Coyote Woman      Nothing as the Ideal          48\n",
       "36                Am I Going Up?  Sleeping Through The War          48\n",
       "28                       Diamond                       ATW          46\n",
       "21                            41      Nothing as the Ideal          45\n",
       "35                         3-5-7  Sleeping Through The War          44\n",
       "74               Charles William     Lightning At The Door          44\n",
       "84               Elk.Blood.Heart    Our Mother Electricity          43\n",
       "18                       Everest      Nothing as the Ideal          42\n",
       "33         Don't Bring Me Coffee  Sleeping Through The War          42\n",
       "80            Heavy/Like a Witch    Our Mother Electricity          42\n",
       "97                L'hotel Serein            L'hotel Serein          40\n",
       "16          Saturnine & Iron Jaw      Nothing as the Ideal          39"
      ]
     },
     "execution_count": 10,
     "metadata": {},
     "output_type": "execute_result"
    }
   ],
   "source": [
    "top_10_songs = atw.nlargest(15, 'popularity')[['name', 'album_name', 'popularity']]\n",
    "top_10_songs"
   ]
  },
  {
   "cell_type": "code",
   "execution_count": 11,
   "id": "53d25c65-4e36-4909-ba0c-b9efd64ffd09",
   "metadata": {},
   "outputs": [
    {
     "data": {
      "text/html": [
       "<div>\n",
       "<style scoped>\n",
       "    .dataframe tbody tr th:only-of-type {\n",
       "        vertical-align: middle;\n",
       "    }\n",
       "\n",
       "    .dataframe tbody tr th {\n",
       "        vertical-align: top;\n",
       "    }\n",
       "\n",
       "    .dataframe thead th {\n",
       "        text-align: right;\n",
       "    }\n",
       "</style>\n",
       "<table border=\"1\" class=\"dataframe\">\n",
       "  <thead>\n",
       "    <tr style=\"text-align: right;\">\n",
       "      <th></th>\n",
       "      <th>name</th>\n",
       "      <th>album_name</th>\n",
       "      <th>popularity</th>\n",
       "    </tr>\n",
       "  </thead>\n",
       "  <tbody>\n",
       "    <tr>\n",
       "      <th>60</th>\n",
       "      <td>Instrumental 2 (Welcome To The Caveman Future)</td>\n",
       "      <td>Dying Surfer Meets His Maker</td>\n",
       "      <td>21</td>\n",
       "    </tr>\n",
       "    <tr>\n",
       "      <th>58</th>\n",
       "      <td>Mellowing</td>\n",
       "      <td>Dying Surfer Meets His Maker</td>\n",
       "      <td>22</td>\n",
       "    </tr>\n",
       "    <tr>\n",
       "      <th>55</th>\n",
       "      <td>El Centro</td>\n",
       "      <td>Dying Surfer Meets His Maker</td>\n",
       "      <td>23</td>\n",
       "    </tr>\n",
       "    <tr>\n",
       "      <th>56</th>\n",
       "      <td>Dirt Preachers</td>\n",
       "      <td>Dying Surfer Meets His Maker</td>\n",
       "      <td>23</td>\n",
       "    </tr>\n",
       "    <tr>\n",
       "      <th>57</th>\n",
       "      <td>This Is Where It Falls Apart</td>\n",
       "      <td>Dying Surfer Meets His Maker</td>\n",
       "      <td>23</td>\n",
       "    </tr>\n",
       "    <tr>\n",
       "      <th>59</th>\n",
       "      <td>Open Passageways</td>\n",
       "      <td>Dying Surfer Meets His Maker</td>\n",
       "      <td>23</td>\n",
       "    </tr>\n",
       "    <tr>\n",
       "      <th>61</th>\n",
       "      <td>Talisman</td>\n",
       "      <td>Dying Surfer Meets His Maker</td>\n",
       "      <td>23</td>\n",
       "    </tr>\n",
       "    <tr>\n",
       "      <th>54</th>\n",
       "      <td>Call Me Star</td>\n",
       "      <td>Dying Surfer Meets His Maker</td>\n",
       "      <td>24</td>\n",
       "    </tr>\n",
       "    <tr>\n",
       "      <th>62</th>\n",
       "      <td>Blood And Sand / Milk And Endless Waters</td>\n",
       "      <td>Dying Surfer Meets His Maker</td>\n",
       "      <td>24</td>\n",
       "    </tr>\n",
       "    <tr>\n",
       "      <th>91</th>\n",
       "      <td>Mama Is a Shining Star</td>\n",
       "      <td>Mama Is a Shining Star</td>\n",
       "      <td>24</td>\n",
       "    </tr>\n",
       "    <tr>\n",
       "      <th>96</th>\n",
       "      <td>6969 WXL THE CAGE</td>\n",
       "      <td>6969 WXL THE CAGE</td>\n",
       "      <td>24</td>\n",
       "    </tr>\n",
       "    <tr>\n",
       "      <th>85</th>\n",
       "      <td>Until It Unwinds</td>\n",
       "      <td>Our Mother Electricity</td>\n",
       "      <td>27</td>\n",
       "    </tr>\n",
       "    <tr>\n",
       "      <th>98</th>\n",
       "      <td>Acid Face</td>\n",
       "      <td>Acid Face</td>\n",
       "      <td>28</td>\n",
       "    </tr>\n",
       "    <tr>\n",
       "      <th>99</th>\n",
       "      <td>Slow City</td>\n",
       "      <td>Slow City</td>\n",
       "      <td>28</td>\n",
       "    </tr>\n",
       "    <tr>\n",
       "      <th>26</th>\n",
       "      <td>1st vs. 2nd</td>\n",
       "      <td>ATW</td>\n",
       "      <td>29</td>\n",
       "    </tr>\n",
       "  </tbody>\n",
       "</table>\n",
       "</div>"
      ],
      "text/plain": [
       "                                              name  \\\n",
       "60  Instrumental 2 (Welcome To The Caveman Future)   \n",
       "58                                       Mellowing   \n",
       "55                                       El Centro   \n",
       "56                                  Dirt Preachers   \n",
       "57                    This Is Where It Falls Apart   \n",
       "59                                Open Passageways   \n",
       "61                                        Talisman   \n",
       "54                                    Call Me Star   \n",
       "62        Blood And Sand / Milk And Endless Waters   \n",
       "91                          Mama Is a Shining Star   \n",
       "96                               6969 WXL THE CAGE   \n",
       "85                                Until It Unwinds   \n",
       "98                                       Acid Face   \n",
       "99                                       Slow City   \n",
       "26                                     1st vs. 2nd   \n",
       "\n",
       "                      album_name  popularity  \n",
       "60  Dying Surfer Meets His Maker          21  \n",
       "58  Dying Surfer Meets His Maker          22  \n",
       "55  Dying Surfer Meets His Maker          23  \n",
       "56  Dying Surfer Meets His Maker          23  \n",
       "57  Dying Surfer Meets His Maker          23  \n",
       "59  Dying Surfer Meets His Maker          23  \n",
       "61  Dying Surfer Meets His Maker          23  \n",
       "54  Dying Surfer Meets His Maker          24  \n",
       "62  Dying Surfer Meets His Maker          24  \n",
       "91        Mama Is a Shining Star          24  \n",
       "96             6969 WXL THE CAGE          24  \n",
       "85        Our Mother Electricity          27  \n",
       "98                     Acid Face          28  \n",
       "99                     Slow City          28  \n",
       "26                           ATW          29  "
      ]
     },
     "execution_count": 11,
     "metadata": {},
     "output_type": "execute_result"
    }
   ],
   "source": [
    "bottom_10_songs = atw.nsmallest(15, 'popularity')[['name', 'album_name', 'popularity']]\n",
    "bottom_10_songs"
   ]
  },
  {
   "cell_type": "markdown",
   "id": "96322219-6046-414b-8531-72b8ae03a151",
   "metadata": {},
   "source": [
    "The entire album 'Dying Surfer Meets His Maker' is very unpopular. That's strange. (I like it and don't think it's any worse than the other albums. This must have other reasons.)"
   ]
  },
  {
   "cell_type": "markdown",
   "id": "81f70967-2b24-4d78-bdde-59c587659295",
   "metadata": {},
   "source": [
    "### valence\n",
    "\n",
    "The first thing that I'm interested in is the valence value. Remember: It's a value between 0 and 1 while 0 means negative (sad, depressed, angry, etc.) and 1 means positive (happy, cheerful, euphoric, etc.). I assume that the values for this band will be closer to 0..."
   ]
  },
  {
   "cell_type": "code",
   "execution_count": 12,
   "id": "24441baf-c9b5-418c-9e23-861223c3a7c1",
   "metadata": {},
   "outputs": [
    {
     "data": {
      "image/png": "[encoded data removed]",
      "text/plain": [
       "<Figure size 800x600 with 1 Axes>"
      ]
     },
     "metadata": {},
     "output_type": "display_data"
    }
   ],
   "source": [
    "bin_boundaries = np.arange(0, 0.8, 0.1)\n",
    "\n",
    "plt.figure(figsize=(8, 6))\n",
    "sns.histplot(atw['valence'], kde=True, color='#598392', edgecolor='black', linewidth=0.5, bins=bin_boundaries, stat='count')\n",
    "plt.title('')\n",
    "plt.xlabel('Valence')\n",
    "plt.ylabel('Count')\n",
    "plt.yticks(np.arange(0, 21, 5)) \n",
    "plt.grid(True)\n",
    "plt.text(0.39, 13, f\"Smallest valence: {atw['valence'].min():.4f} \\n({atw.loc[atw['valence'].idxmin(), 'name']})\\n\\nLargest valence: {atw['valence'].max():.4f} \\n({atw.loc[atw['valence'].idxmax(), 'name']})\", color='#01161e')\n",
    "\n",
    "plt.show()"
   ]
  },
  {
   "cell_type": "markdown",
   "id": "700cbdba-afae-4e26-949e-867fc79f29b6",
   "metadata": {},
   "source": [
    "Indeed, the mood of the songs is rather gloomy."
   ]
  },
  {
   "cell_type": "code",
   "execution_count": null,
   "id": "e783e9e2-5bad-42fd-85cb-f00a791ee905",
   "metadata": {},
   "outputs": [],
   "source": []
  }
 ],
 "metadata": {
  "kernelspec": {
   "display_name": "Python 3 (ipykernel)",
   "language": "python",
   "name": "python3"
  },
  "language_info": {
   "codemirror_mode": {
    "name": "ipython",
    "version": 3
   },
   "file_extension": ".py",
   "mimetype": "text/x-python",
   "name": "python",
   "nbconvert_exporter": "python",
   "pygments_lexer": "ipython3",
   "version": "3.9.8"
  }
 },
 "nbformat": 4,
 "nbformat_minor": 5
}
