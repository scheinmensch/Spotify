{
 "cells": [
  {
   "cell_type": "markdown",
   "id": "5f917d85-b177-4019-b4dc-0028a6b67e08",
   "metadata": {},
   "source": [
    "Here I'm going to start with the analysis."
   ]
  },
  {
   "cell_type": "code",
   "execution_count": null,
   "id": "9b291216-741e-47fe-98f3-1c5ef1572d57",
   "metadata": {},
   "outputs": [],
   "source": []
  }
 ],
 "metadata": {
  "kernelspec": {
   "display_name": "Python 3 (ipykernel)",
   "language": "python",
   "name": "python3"
  },
  "language_info": {
   "codemirror_mode": {
    "name": "ipython",
    "version": 3
   },
   "file_extension": ".py",
   "mimetype": "text/x-python",
   "name": "python",
   "nbconvert_exporter": "python",
   "pygments_lexer": "ipython3",
   "version": "3.9.8"
  }
 },
 "nbformat": 4,
 "nbformat_minor": 5
}
