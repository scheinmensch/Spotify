{
 "cells": [
  {
   "cell_type": "markdown",
   "id": "d7586a07-ef02-4655-85b2-394d695aa69e",
   "metadata": {},
   "source": [
    "In this notebook, I connect to the Spotify API (via Spotipy) to request data for the band \"All Them Witches\". I will create a csv that I can make an analysis with later on."
   ]
  },
  {
   "cell_type": "code",
   "execution_count": 1,
   "id": "63ee8fb6-e93e-46a6-8746-d4e606f475b5",
   "metadata": {},
   "outputs": [],
   "source": [
    "# Basics: import librabries and connect to Spotify API\n",
    "\n",
    "import config\n",
    "import pandas as pd\n",
    "import json\n",
    "import numpy as np\n",
    "import time\n",
    "import spotipy \n",
    "from spotipy.oauth2 import SpotifyClientCredentials \n",
    "import warnings\n",
    "cid = config.cid\n",
    "secret = config.secret\n",
    "client_credentials_manager = SpotifyClientCredentials(client_id=cid, client_secret=secret) \n",
    "sp = spotipy.Spotify(client_credentials_manager=client_credentials_manager)"
   ]
  },
  {
   "cell_type": "code",
   "execution_count": 2,
   "id": "804299eb-597f-454b-bbf8-e99824de2f23",
   "metadata": {},
   "outputs": [
    {
     "data": {
      "text/plain": [
       "'29Wmfm1CojrjQ3aQP0FI65'"
      ]
     },
     "execution_count": 2,
     "metadata": {},
     "output_type": "execute_result"
    }
   ],
   "source": [
    "# Get artist ID\n",
    "\n",
    "search_string = \"AllThemWitches\"\n",
    "result = sp.search(q=search_string, type=\"artist\")\n",
    "artist_id = result['artists']['items'][0]['id']\n",
    "artist_id"
   ]
  },
  {
   "cell_type": "markdown",
   "id": "e3aa3704-2efb-4905-a5c4-f72db1fa932d",
   "metadata": {},
   "source": [
    "When working on the analysis I noticed that two song from the Bakers' Dozen project 2022 were missing in the dataframe. So I add them manually."
   ]
  },
  {
   "cell_type": "code",
   "execution_count": 3,
   "id": "a1ed8f0e-18d4-4b59-805f-080d5f655f8a",
   "metadata": {},
   "outputs": [],
   "source": [
    "# get audio features of their songs\n",
    "\n",
    "def get_audio_data(artist_id, sp):\n",
    "    albums = sp.artist_albums(artist_id)\n",
    "    album_ids = [album['id'] for album in albums['items']]\n",
    "    \n",
    "    audio_features = []\n",
    "    \n",
    "    for album_id in album_ids:\n",
    "        tracks = sp.album_tracks(album_id)\n",
    "        track_ids = [track['id'] for track in tracks['items']]\n",
    "        audio_features += sp.audio_features(track_ids)\n",
    "\n",
    "    additional_track_ids = ['6FttMYQiHyM0lVZafG3eXO', '0x1KTwB4GZ6U22Kjtv1qBe']\n",
    "    audio_features += sp.audio_features(additional_track_ids)\n",
    "    \n",
    "    audio_features_df = pd.DataFrame(audio_features)\n",
    "    return audio_features_df\n",
    "\n",
    "atw_audio_df = get_audio_data(artist_id, sp)"
   ]
  },
  {
   "cell_type": "code",
   "execution_count": 4,
   "id": "c136b967-5700-4cb3-b560-0b39bfb7a95a",
   "metadata": {},
   "outputs": [],
   "source": [
    "warnings.simplefilter(action='ignore', category=FutureWarning)\n",
    "\n",
    "# get metadata about their songs\n",
    "\n",
    "def get_tracks(track_ids, sp, limit=50, time_interval=2):\n",
    "    num_chunks = int(np.ceil(len(track_ids) / limit))\n",
    "    track_id_chunks = np.array_split(track_ids, num_chunks)\n",
    "    \n",
    "    combined_results = []\n",
    "    \n",
    "    for chunk in track_id_chunks:\n",
    "        track_info = sp.tracks(chunk)\n",
    "        combined_results += track_info['tracks']\n",
    "        time.sleep(time_interval)\n",
    "    \n",
    "    track_popularity_df = pd.DataFrame(combined_results)\n",
    "    track_popularity_df['album_release_date'] = track_popularity_df['album'].apply(lambda x: x['release_date'])\n",
    "    track_popularity_df['album_name'] = track_popularity_df['album'].apply(lambda x: x['name'])\n",
    "    return track_popularity_df\n",
    "\n",
    "track_ids = atw_audio_df['id'].transpose()\n",
    "\n",
    "combined_results_df = get_tracks(track_ids, sp)\n",
    "popularity_score_df = combined_results_df[['id', 'name', 'popularity', 'explicit', 'uri', 'album_name', 'album_release_date']]"
   ]
  },
  {
   "cell_type": "code",
   "execution_count": 5,
   "id": "fc3f8a5b-8966-4e13-a24b-ac737d474600",
   "metadata": {},
   "outputs": [],
   "source": [
    "# merge the data and make some adjustments\n",
    "\n",
    "songs = pd.merge(atw_audio_df, popularity_score_df, on='id', how='inner')"
   ]
  },
  {
   "cell_type": "code",
   "execution_count": 6,
   "id": "d504467b-1b1d-4e58-bc00-9981649bf6c3",
   "metadata": {},
   "outputs": [],
   "source": [
    "songs.to_csv('data/AllThemWitches.csv', index=False)"
   ]
  },
  {
   "cell_type": "markdown",
   "id": "a9b6e492-3dd9-4786-9c52-4fbce8904b0b",
   "metadata": {},
   "source": [
    "Outlook: At some point I'd like to add more interesting information about the tracks, I've found more things I'd be interested in [here](https://developer.spotify.com/documentation/web-api/reference/get-audio-analysis).\n",
    "\n",
    "```\n",
    "# This function retrieves detailed audio analysis for a track, including timing information like when fade-ins and fade-outs occur. \n",
    "\n",
    "def get_analysis_data(artist_id, sp):\n",
    "    albums = sp.artist_albums(artist_id)\n",
    "    album_ids = [album['id'] for album in albums['items']]\n",
    "    \n",
    "    analysis_features = []\n",
    "    \n",
    "    for album_id in album_ids:\n",
    "        tracks = sp.album_tracks(album_id)\n",
    "        track_ids = [track['id'] for track in tracks['items']]\n",
    "        for track_id in track_ids:\n",
    "            analysis_features.append(sp.audio_analysis(track_id))\n",
    "    \n",
    "    analysis_features_df = pd.DataFrame(analysis_features)\n",
    "    return analysis_features_df\n",
    "\n",
    "atw_analysis_df = get_analysis_data(artist_id, sp)\n",
    "\n",
    "```"
   ]
  },
  {
   "cell_type": "code",
   "execution_count": null,
   "id": "ae91b467-2ea4-4f3f-9456-bac6cf51b1af",
   "metadata": {},
   "outputs": [],
   "source": []
  }
 ],
 "metadata": {
  "kernelspec": {
   "display_name": "Python 3 (ipykernel)",
   "language": "python",
   "name": "python3"
  },
  "language_info": {
   "codemirror_mode": {
    "name": "ipython",
    "version": 3
   },
   "file_extension": ".py",
   "mimetype": "text/x-python",
   "name": "python",
   "nbconvert_exporter": "python",
   "pygments_lexer": "ipython3",
   "version": "3.9.8"
  }
 },
 "nbformat": 4,
 "nbformat_minor": 5
}
