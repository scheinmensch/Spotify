{
 "cells": [
  {
   "cell_type": "code",
   "execution_count": 1,
   "id": "1472d641-90c9-43d0-a8b5-9804bfefb25f",
   "metadata": {},
   "outputs": [],
   "source": [
    "import config\n",
    "import pandas as pd"
   ]
  },
  {
   "cell_type": "code",
   "execution_count": 2,
   "id": "724acbe7-7d42-4545-b1a3-a82b0e3f496b",
   "metadata": {},
   "outputs": [],
   "source": [
    "import spotipy \n",
    "from spotipy.oauth2 import SpotifyClientCredentials \n",
    "cid = config.cid\n",
    "secret = config.secret\n",
    "client_credentials_manager = SpotifyClientCredentials(client_id=cid, client_secret=secret) \n",
    "sp = spotipy.Spotify(client_credentials_manager=client_credentials_manager)"
   ]
  },
  {
   "cell_type": "code",
   "execution_count": 3,
   "id": "18d86929-4e63-4704-9094-759688871380",
   "metadata": {},
   "outputs": [],
   "source": [
    "rs = sp.search(q='rivalsons', type='artist', limit=50) "
   ]
  }
 ],
 "metadata": {
  "kernelspec": {
   "display_name": "Python 3 (ipykernel)",
   "language": "python",
   "name": "python3"
  },
  "language_info": {
   "codemirror_mode": {
    "name": "ipython",
    "version": 3
   },
   "file_extension": ".py",
   "mimetype": "text/x-python",
   "name": "python",
   "nbconvert_exporter": "python",
   "pygments_lexer": "ipython3",
   "version": "3.9.8"
  }
 },
 "nbformat": 4,
 "nbformat_minor": 5
}
