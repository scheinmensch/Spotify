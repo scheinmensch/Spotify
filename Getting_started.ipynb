{
 "cells": [
  {
   "cell_type": "markdown",
   "id": "230cca36-7df3-4d03-869f-f4c6038ce1ec",
   "metadata": {},
   "source": [
    "I'm only playing around for now and see which data I can query, and how :)"
   ]
  },
  {
   "cell_type": "code",
   "execution_count": 1,
   "id": "1472d641-90c9-43d0-a8b5-9804bfefb25f",
   "metadata": {},
   "outputs": [],
   "source": [
    "import config\n",
    "import pandas as pd\n",
    "import json"
   ]
  },
  {
   "cell_type": "code",
   "execution_count": 2,
   "id": "724acbe7-7d42-4545-b1a3-a82b0e3f496b",
   "metadata": {},
   "outputs": [],
   "source": [
    "import spotipy \n",
    "from spotipy.oauth2 import SpotifyClientCredentials \n",
    "cid = config.cid\n",
    "secret = config.secret\n",
    "client_credentials_manager = SpotifyClientCredentials(client_id=cid, client_secret=secret) \n",
    "sp = spotipy.Spotify(client_credentials_manager=client_credentials_manager)"
   ]
  },
  {
   "cell_type": "code",
   "execution_count": 82,
   "id": "f17a0d0a-5e11-4891-abee-d68a5f5ab95c",
   "metadata": {},
   "outputs": [],
   "source": [
    "artist_names = [\"Rival Sons\", \"All them Witches\", \"The Streets\", \"No Money Kids\", \"The Stone Foxes\"] \n",
    "\n",
    "bands = []\n",
    "\n",
    "for artist_name in artist_names:\n",
    "    results = sp.search(q=artist_name, type='artist')\n",
    "    if results['artists']['items']:\n",
    "        artist = results['artists']['items'][0]\n",
    "        artist_id = artist['id']\n",
    "        artist_name = artist['name']\n",
    "        followers = artist['followers']['total']\n",
    "        genres = ', '.join(artist['genres'])\n",
    "        popularity = artist['popularity']\n",
    "        \n",
    "        bands.append({\n",
    "            'Artist Name': artist_name,\n",
    "            'Artist ID': artist_id,\n",
    "            'Followers': followers,\n",
    "            'Genres': genres,\n",
    "            'Popularity': popularity\n",
    "        })\n",
    "    else:\n",
    "        print(f\"Artist '{artist_name}' not found.\")\n",
    "\n",
    "bands_df = pd.DataFrame(bands)"
   ]
  },
  {
   "cell_type": "code",
   "execution_count": 83,
   "id": "a17777fe-3f86-4926-b87e-abdaf53fbe98",
   "metadata": {},
   "outputs": [
    {
     "data": {
      "text/html": [
       "<div>\n",
       "<style scoped>\n",
       "    .dataframe tbody tr th:only-of-type {\n",
       "        vertical-align: middle;\n",
       "    }\n",
       "\n",
       "    .dataframe tbody tr th {\n",
       "        vertical-align: top;\n",
       "    }\n",
       "\n",
       "    .dataframe thead th {\n",
       "        text-align: right;\n",
       "    }\n",
       "</style>\n",
       "<table border=\"1\" class=\"dataframe\">\n",
       "  <thead>\n",
       "    <tr style=\"text-align: right;\">\n",
       "      <th></th>\n",
       "      <th>Artist Name</th>\n",
       "      <th>Artist ID</th>\n",
       "      <th>Followers</th>\n",
       "      <th>Genres</th>\n",
       "      <th>Popularity</th>\n",
       "    </tr>\n",
       "  </thead>\n",
       "  <tbody>\n",
       "    <tr>\n",
       "      <th>0</th>\n",
       "      <td>Rival Sons</td>\n",
       "      <td>356c8AN5YWKvz86B4Sb1yf</td>\n",
       "      <td>428065</td>\n",
       "      <td>alternative roots rock, modern blues rock</td>\n",
       "      <td>51</td>\n",
       "    </tr>\n",
       "    <tr>\n",
       "      <th>1</th>\n",
       "      <td>All Them Witches</td>\n",
       "      <td>29Wmfm1CojrjQ3aQP0FI65</td>\n",
       "      <td>292262</td>\n",
       "      <td>indie rock, modern blues rock, neo-psychedelic...</td>\n",
       "      <td>49</td>\n",
       "    </tr>\n",
       "    <tr>\n",
       "      <th>2</th>\n",
       "      <td>The Streets</td>\n",
       "      <td>4GvOygVQquMaPm8oAc0vXi</td>\n",
       "      <td>471898</td>\n",
       "      <td>birmingham hip hop, uk garage</td>\n",
       "      <td>55</td>\n",
       "    </tr>\n",
       "    <tr>\n",
       "      <th>3</th>\n",
       "      <td>No Money Kids</td>\n",
       "      <td>7FhOFt7mORRpbrgHdSeCfF</td>\n",
       "      <td>12295</td>\n",
       "      <td>rock alternatif francais</td>\n",
       "      <td>34</td>\n",
       "    </tr>\n",
       "    <tr>\n",
       "      <th>4</th>\n",
       "      <td>The Stone Foxes</td>\n",
       "      <td>40N10exWtaCVUtBMftQn3t</td>\n",
       "      <td>62485</td>\n",
       "      <td>alternative roots rock, bay area indie, modern...</td>\n",
       "      <td>42</td>\n",
       "    </tr>\n",
       "  </tbody>\n",
       "</table>\n",
       "</div>"
      ],
      "text/plain": [
       "        Artist Name               Artist ID  Followers  \\\n",
       "0        Rival Sons  356c8AN5YWKvz86B4Sb1yf     428065   \n",
       "1  All Them Witches  29Wmfm1CojrjQ3aQP0FI65     292262   \n",
       "2       The Streets  4GvOygVQquMaPm8oAc0vXi     471898   \n",
       "3     No Money Kids  7FhOFt7mORRpbrgHdSeCfF      12295   \n",
       "4   The Stone Foxes  40N10exWtaCVUtBMftQn3t      62485   \n",
       "\n",
       "                                              Genres  Popularity  \n",
       "0          alternative roots rock, modern blues rock          51  \n",
       "1  indie rock, modern blues rock, neo-psychedelic...          49  \n",
       "2                      birmingham hip hop, uk garage          55  \n",
       "3                           rock alternatif francais          34  \n",
       "4  alternative roots rock, bay area indie, modern...          42  "
      ]
     },
     "execution_count": 83,
     "metadata": {},
     "output_type": "execute_result"
    }
   ],
   "source": [
    "bands_df"
   ]
  },
  {
   "cell_type": "code",
   "execution_count": 56,
   "id": "a81f4b66-c1f4-4ffd-a41f-8ad91421090f",
   "metadata": {},
   "outputs": [],
   "source": [
    "### not working yet\n",
    "\n",
    "genre = \"modern blues rock\" \n",
    "\n",
    "modern_blues_rock = []\n",
    "\n",
    "offset = 0\n",
    "while offset < 1000:\n",
    "    results_mbr = sp.search(q=f\"genre:{genre_string}*\", type='artist', limit=50, offset=offset)\n",
    "    for artist in results_mbr['artists']['items']:\n",
    "        artist_id = artist['id']\n",
    "        artist_name = artist['name']\n",
    "        followers = artist['followers']['total']\n",
    "        genres = ', '.join(artist['genres'])\n",
    "        popularity = artist['popularity']\n",
    "        \n",
    "        modern_blues_rock.append({\n",
    "            'Artist Name': artist_name,\n",
    "            'Artist ID': artist_id,\n",
    "            'Followers': followers,\n",
    "            'Genres': genres,\n",
    "            'Popularity': popularity\n",
    "        })\n",
    "\n",
    "    offset += 50\n",
    "\n",
    "modern_blues_rock_df = pd.DataFrame(modern_blues_rock)"
   ]
  },
  {
   "cell_type": "code",
   "execution_count": 57,
   "id": "166d4b42-889a-43d5-af83-cc259d3de5c9",
   "metadata": {},
   "outputs": [
    {
     "data": {
      "text/html": [
       "<div>\n",
       "<style scoped>\n",
       "    .dataframe tbody tr th:only-of-type {\n",
       "        vertical-align: middle;\n",
       "    }\n",
       "\n",
       "    .dataframe tbody tr th {\n",
       "        vertical-align: top;\n",
       "    }\n",
       "\n",
       "    .dataframe thead th {\n",
       "        text-align: right;\n",
       "    }\n",
       "</style>\n",
       "<table border=\"1\" class=\"dataframe\">\n",
       "  <thead>\n",
       "    <tr style=\"text-align: right;\">\n",
       "      <th></th>\n",
       "    </tr>\n",
       "  </thead>\n",
       "  <tbody>\n",
       "  </tbody>\n",
       "</table>\n",
       "</div>"
      ],
      "text/plain": [
       "Empty DataFrame\n",
       "Columns: []\n",
       "Index: []"
      ]
     },
     "execution_count": 57,
     "metadata": {},
     "output_type": "execute_result"
    }
   ],
   "source": [
    "modern_blues_rock_df"
   ]
  },
  {
   "cell_type": "code",
   "execution_count": 78,
   "id": "119f3552-9217-4924-aa83-f1a4232e14a8",
   "metadata": {},
   "outputs": [
    {
     "name": "stdout",
     "output_type": "stream",
     "text": [
      "Rival Sons Top 10 Tracks\n",
      "track    : Do Your Worst\n",
      "track    : Open My Eyes\n",
      "track    : Thundering Voices\n",
      "track    : Tied Up\n",
      "track    : Electric Man\n",
      "track    : Pressure and Time\n",
      "track    : Sweet Life\n",
      "track    : Shooting Stars - in the Woods\n",
      "track    : Too Bad\n",
      "track    : Keep on Swinging\n"
     ]
    }
   ],
   "source": [
    "rs_uri = 'spotify:artist:356c8AN5YWKvz86B4Sb1yf'\n",
    "\n",
    "sp = spotipy.Spotify(client_credentials_manager=client_credentials_manager)\n",
    "\n",
    "results_tracks = sp.artist_top_tracks(rs_uri)\n",
    "print('Rival Sons Top 10 Tracks')\n",
    "for track in results_tracks['tracks'][:10]:\n",
    "    print('track    : ' + track['name'])"
   ]
  },
  {
   "cell_type": "code",
   "execution_count": null,
   "id": "3fb73d4c-fd40-417e-ba9c-d6294dddd4b7",
   "metadata": {},
   "outputs": [],
   "source": []
  }
 ],
 "metadata": {
  "kernelspec": {
   "display_name": "Python 3 (ipykernel)",
   "language": "python",
   "name": "python3"
  },
  "language_info": {
   "codemirror_mode": {
    "name": "ipython",
    "version": 3
   },
   "file_extension": ".py",
   "mimetype": "text/x-python",
   "name": "python",
   "nbconvert_exporter": "python",
   "pygments_lexer": "ipython3",
   "version": "3.9.8"
  }
 },
 "nbformat": 4,
 "nbformat_minor": 5
}
