{
 "cells": [
  {
   "cell_type": "markdown",
   "id": "230cca36-7df3-4d03-869f-f4c6038ce1ec",
   "metadata": {},
   "source": [
    "I'm only playing around for now and see which data I can query, and how :)"
   ]
  },
  {
   "cell_type": "code",
   "execution_count": 18,
   "id": "1472d641-90c9-43d0-a8b5-9804bfefb25f",
   "metadata": {},
   "outputs": [],
   "source": [
    "import config\n",
    "import pandas as pd\n",
    "import json"
   ]
  },
  {
   "cell_type": "code",
   "execution_count": 7,
   "id": "724acbe7-7d42-4545-b1a3-a82b0e3f496b",
   "metadata": {},
   "outputs": [],
   "source": [
    "import spotipy \n",
    "from spotipy.oauth2 import SpotifyClientCredentials \n",
    "cid = config.cid\n",
    "secret = config.secret\n",
    "client_credentials_manager = SpotifyClientCredentials(client_id=cid, client_secret=secret) \n",
    "sp = spotipy.Spotify(client_credentials_manager=client_credentials_manager)"
   ]
  },
  {
   "cell_type": "code",
   "execution_count": 47,
   "id": "18d86929-4e63-4704-9094-759688871380",
   "metadata": {},
   "outputs": [],
   "source": [
    "results = sp.search(q='track:Johanna', type='track')"
   ]
  },
  {
   "cell_type": "code",
   "execution_count": 48,
   "id": "76fa3040-2916-49dc-94ec-efd94a2a1551",
   "metadata": {},
   "outputs": [
    {
     "name": "stdout",
     "output_type": "stream",
     "text": [
      "Johanna - Suki Waterhouse\n",
      "Johanna - Jordan Fisher\n",
      "Johanna's Dream - BALTHVS\n",
      "Johanna - Jumbo\n",
      "Johanna - Jamie Campbell Bower\n",
      "Johanna - Jamie Campbell Bower\n",
      "Visions of Johanna - Bob Dylan\n",
      "Johanna - Stephen Sondheim\n",
      "Johanna (Act 2 Sequence) - Josh Groban\n",
      "Johanna - Jamie Campbell Bower\n"
     ]
    }
   ],
   "source": [
    "for track in results['tracks']['items']:\n",
    "    print(track['name'], '-', track['artists'][0]['name'])"
   ]
  },
  {
   "cell_type": "code",
   "execution_count": 46,
   "id": "e97b7754-cebf-427c-b34c-b568af7ede8b",
   "metadata": {},
   "outputs": [],
   "source": [
    "artist_name = []\n",
    "track_name = []\n",
    "popularity = []\n",
    "track_id = []\n",
    "for i in range(0,1000,50):\n",
    "    track_results = sp.search(q='year:2024', type='track', limit=50,offset=i)\n",
    "    for i, t in enumerate(track_results['tracks']['items']):\n",
    "        artist_name.append(t['artists'][0]['name'])\n",
    "        track_name.append(t['name'])\n",
    "        track_id.append(t['id'])\n",
    "        popularity.append(t['popularity'])"
   ]
  },
  {
   "cell_type": "code",
   "execution_count": 49,
   "id": "96c5ef2f-0020-46d3-b86e-6ea4fc33ceb5",
   "metadata": {},
   "outputs": [
    {
     "data": {
      "text/html": [
       "<div>\n",
       "<style scoped>\n",
       "    .dataframe tbody tr th:only-of-type {\n",
       "        vertical-align: middle;\n",
       "    }\n",
       "\n",
       "    .dataframe tbody tr th {\n",
       "        vertical-align: top;\n",
       "    }\n",
       "\n",
       "    .dataframe thead th {\n",
       "        text-align: right;\n",
       "    }\n",
       "</style>\n",
       "<table border=\"1\" class=\"dataframe\">\n",
       "  <thead>\n",
       "    <tr style=\"text-align: right;\">\n",
       "      <th></th>\n",
       "      <th>artist_name</th>\n",
       "      <th>track_name</th>\n",
       "      <th>track_id</th>\n",
       "      <th>popularity</th>\n",
       "    </tr>\n",
       "  </thead>\n",
       "  <tbody>\n",
       "    <tr>\n",
       "      <th>0</th>\n",
       "      <td>Marie Ahn</td>\n",
       "      <td>Calm Vibe</td>\n",
       "      <td>1ChdbzjZXVVbFY2rAw2EvR</td>\n",
       "      <td>0</td>\n",
       "    </tr>\n",
       "    <tr>\n",
       "      <th>1</th>\n",
       "      <td>Jazz Orchestra</td>\n",
       "      <td>Jazzy Turntable</td>\n",
       "      <td>3x7e9uAFIEkCufw8wyKRhu</td>\n",
       "      <td>0</td>\n",
       "    </tr>\n",
       "    <tr>\n",
       "      <th>2</th>\n",
       "      <td>Sad Piano</td>\n",
       "      <td>To Old</td>\n",
       "      <td>6ap8G5WYlVUzXfkbdHzx5m</td>\n",
       "      <td>0</td>\n",
       "    </tr>\n",
       "    <tr>\n",
       "      <th>3</th>\n",
       "      <td>The Melodic Mosaic Ensemble</td>\n",
       "      <td>Frosty Forest's Grace</td>\n",
       "      <td>5LLWUwi0VcpkqC0oYoQsBP</td>\n",
       "      <td>0</td>\n",
       "    </tr>\n",
       "    <tr>\n",
       "      <th>4</th>\n",
       "      <td>The meaninglessness of existence, and therefor...</td>\n",
       "      <td>Constitutional 581 Rumble 396 Flowering 901 Fr...</td>\n",
       "      <td>0YUGj02BV61w64rzTU4ZIE</td>\n",
       "      <td>0</td>\n",
       "    </tr>\n",
       "    <tr>\n",
       "      <th>...</th>\n",
       "      <td>...</td>\n",
       "      <td>...</td>\n",
       "      <td>...</td>\n",
       "      <td>...</td>\n",
       "    </tr>\n",
       "    <tr>\n",
       "      <th>995</th>\n",
       "      <td>The Age of Colored Lizards</td>\n",
       "      <td>Picture of You</td>\n",
       "      <td>2tzkzlX5tSBNoP5DFMXapL</td>\n",
       "      <td>0</td>\n",
       "    </tr>\n",
       "    <tr>\n",
       "      <th>996</th>\n",
       "      <td>Some Acoustic Guitar Music</td>\n",
       "      <td>Longitude Laugh</td>\n",
       "      <td>05aEcOt5xLEKrfb9KiFs0N</td>\n",
       "      <td>0</td>\n",
       "    </tr>\n",
       "    <tr>\n",
       "      <th>997</th>\n",
       "      <td>HERU JAST</td>\n",
       "      <td>Bila Tak Bisa Disini</td>\n",
       "      <td>5kltnZsVwVxV8OOqSoqbMY</td>\n",
       "      <td>3</td>\n",
       "    </tr>\n",
       "    <tr>\n",
       "      <th>998</th>\n",
       "      <td>LVISxS</td>\n",
       "      <td>euteodeio</td>\n",
       "      <td>3dSc5jWPm3GVIAGHnYII38</td>\n",
       "      <td>0</td>\n",
       "    </tr>\n",
       "    <tr>\n",
       "      <th>999</th>\n",
       "      <td>Clarity2x</td>\n",
       "      <td>Country Lime Tea</td>\n",
       "      <td>58seX6i5rHpfv8QfqKerfB</td>\n",
       "      <td>0</td>\n",
       "    </tr>\n",
       "  </tbody>\n",
       "</table>\n",
       "<p>1000 rows × 4 columns</p>\n",
       "</div>"
      ],
      "text/plain": [
       "                                           artist_name  \\\n",
       "0                                            Marie Ahn   \n",
       "1                                       Jazz Orchestra   \n",
       "2                                            Sad Piano   \n",
       "3                          The Melodic Mosaic Ensemble   \n",
       "4    The meaninglessness of existence, and therefor...   \n",
       "..                                                 ...   \n",
       "995                         The Age of Colored Lizards   \n",
       "996                         Some Acoustic Guitar Music   \n",
       "997                                          HERU JAST   \n",
       "998                                             LVISxS   \n",
       "999                                          Clarity2x   \n",
       "\n",
       "                                            track_name  \\\n",
       "0                                            Calm Vibe   \n",
       "1                                      Jazzy Turntable   \n",
       "2                                               To Old   \n",
       "3                                Frosty Forest's Grace   \n",
       "4    Constitutional 581 Rumble 396 Flowering 901 Fr...   \n",
       "..                                                 ...   \n",
       "995                                     Picture of You   \n",
       "996                                    Longitude Laugh   \n",
       "997                               Bila Tak Bisa Disini   \n",
       "998                                          euteodeio   \n",
       "999                                   Country Lime Tea   \n",
       "\n",
       "                   track_id  popularity  \n",
       "0    1ChdbzjZXVVbFY2rAw2EvR           0  \n",
       "1    3x7e9uAFIEkCufw8wyKRhu           0  \n",
       "2    6ap8G5WYlVUzXfkbdHzx5m           0  \n",
       "3    5LLWUwi0VcpkqC0oYoQsBP           0  \n",
       "4    0YUGj02BV61w64rzTU4ZIE           0  \n",
       "..                      ...         ...  \n",
       "995  2tzkzlX5tSBNoP5DFMXapL           0  \n",
       "996  05aEcOt5xLEKrfb9KiFs0N           0  \n",
       "997  5kltnZsVwVxV8OOqSoqbMY           3  \n",
       "998  3dSc5jWPm3GVIAGHnYII38           0  \n",
       "999  58seX6i5rHpfv8QfqKerfB           0  \n",
       "\n",
       "[1000 rows x 4 columns]"
      ]
     },
     "execution_count": 49,
     "metadata": {},
     "output_type": "execute_result"
    }
   ],
   "source": [
    "track_dataframe = pd.DataFrame({'artist_name' : artist_name, 'track_name' : track_name, 'track_id' : track_id, 'popularity' : popularity})\n",
    "track_dataframe"
   ]
  }
 ],
 "metadata": {
  "kernelspec": {
   "display_name": "Python 3 (ipykernel)",
   "language": "python",
   "name": "python3"
  },
  "language_info": {
   "codemirror_mode": {
    "name": "ipython",
    "version": 3
   },
   "file_extension": ".py",
   "mimetype": "text/x-python",
   "name": "python",
   "nbconvert_exporter": "python",
   "pygments_lexer": "ipython3",
   "version": "3.9.8"
  }
 },
 "nbformat": 4,
 "nbformat_minor": 5
}
